{
  "nbformat": 4,
  "nbformat_minor": 0,
  "metadata": {
    "colab": {
      "provenance": [],
      "collapsed_sections": [
        "1MogYyyUNc9o",
        "7E9uBZQtNFo4",
        "TiLDmjJzRXPo",
        "oPz9UsF1Rzx_",
        "5km5kXrpUsSY",
        "wk15kWcNU59B",
        "QruxL9SqaSvb",
        "weLH02ZDbDOY",
        "sohmYSQ-4RjC",
        "pueo0LQRVDh1",
        "4sxnz8_872oA",
        "ZQjOAZcOQhgA",
        "dp3nAZmjQpnw",
        "tY2bU33tSnqf",
        "Uf_X5H8xTIP3",
        "GLZcFbIbVvza",
        "aXBNjBZ6WSqQ",
        "lTqDKxmDXDsg",
        "F4vEQCpQX0aB",
        "RYfx6wizYZts",
        "X14uOCyqZDOn",
        "Jf6a_LCkZ2-H",
        "x41bnqv6aNX4",
        "bVAiahQeam3k",
        "ez33c4l-v8r4",
        "t-ZDKZ5lxCyn",
        "zp6lLm7xxSm1",
        "etzZHawqx1e3",
        "aUDqSQNmySXj",
        "wSsK0BQIzO-d",
        "_VR7CVIu1XG7",
        "8my4F1QA2ClB",
        "d0ilHCcV5ViA",
        "5GAJeDJv8Stz",
        "nEaOac9-9WpM",
        "u9dYHuUw-KBS",
        "iUVO4vlX_tDQ",
        "2GmWwO7kCvig",
        "Qph3oriGKsyz",
        "7T7-Hepiv9Vv",
        "xITo5oPkSI16",
        "p6xGj83qSoRy",
        "SdLXrE83TWGy",
        "B9XwMmTgT3Ww",
        "EQVeKjZvUedo"
      ]
    },
    "kernelspec": {
      "name": "python3",
      "display_name": "Python 3"
    },
    "language_info": {
      "name": "python"
    }
  },
  "cells": [
    {
      "cell_type": "markdown",
      "source": [
        "# Estudo Dirigido: Controle e Automação\n",
        "\n",
        "#### - Ismael Marinho Rocha\n"
      ],
      "metadata": {
        "id": "5oSOypFYM61e"
      }
    },
    {
      "cell_type": "markdown",
      "source": [
        "## 13. Sistemas de controle digital"
      ],
      "metadata": {
        "id": "WAoQGmwGvvRE"
      }
    },
    {
      "cell_type": "markdown",
      "source": [
        "### 13.1 Introdução a Sistemas de Controle Digital"
      ],
      "metadata": {
        "id": "7T7-Hepiv9Vv"
      }
    },
    {
      "cell_type": "markdown",
      "source": [
        "#### Visão Geral\n",
        "- **Avanços Tecnológicos**: Uso crescente de compensadores digitais devido à melhoria em custo e confiabilidade de computadores digitais.\n",
        "- **Configuração Básica**:\n",
        "  - Sistema de controle de malha única (Figura 13.1) com computador digital como núcleo.\n",
        "  - Processamento de erros em formato digital para otimizar desempenho do processo.\n",
        "\n",
        "#### Componentes Principais\n",
        "1. **Computador Digital**:\n",
        "   - Recebe entradas digitais e executa cálculos para gerar saídas digitais.\n",
        "   - Programável para atender requisitos de desempenho específicos.\n",
        "   - Capacidade de manipular múltiplas entradas (sistemas multivariáveis).\n",
        "\n",
        "2. **Conversores**:\n",
        "   - **ADC (Analog-to-Digital Converter)**: Converte sinais analógicos (ex: medições) em digitais.\n",
        "   - **DAC (Digital-to-Analog Converter)**: Converte a saída digital do computador em analógica para atuar no processo.\n",
        "\n",
        "#### Características de Sistemas Digitais\n",
        "- **Sinais Digitais**: Operam com dados discretos/numerais, em contraste com sistemas analógicos (sinais contínuos).\n",
        "- **Processamento**:\n",
        "  - Erro é convertido para formato digital → computador gera ação de controle → saída é reconvertida para analógico.\n",
        "\n",
        "#### Vantagens\n",
        "- **Flexibilidade**: Algoritmos de controle reprogramáveis para diferentes cenários.\n",
        "- **Precisão**: Manipulação numérica reduz erros associados a componentes analógicos.\n",
        "- **Integração**: Capacidade de controlar múltiplas variáveis simultaneamente."
      ],
      "metadata": {
        "id": "b8aE8nnhSIAN"
      }
    },
    {
      "cell_type": "markdown",
      "source": [
        "### 13.2 Aplicações de Sistemas de Controle por Computador Digital"
      ],
      "metadata": {
        "id": "xITo5oPkSI16"
      }
    },
    {
      "cell_type": "markdown",
      "source": [
        "#### Componentes Básicos de Computadores Digitais\n",
        "- **Unidade Central de Processamento (CPU)**:\n",
        "  - Coração do computador, responsável por cálculos e operações.\n",
        "  - Microprocessadores são CPUs compactas e poderosas em microcomputadores.\n",
        "- **Unidades de Entrada/Saída**:\n",
        "  - Interface para comunicação com sensores, atuadores e dispositivos externos.\n",
        "- **Memória**:\n",
        "  - Armazena dados e programas. Capacidade varia conforme aplicação.\n",
        "\n",
        "#### Avanços Tecnológicos\n",
        "- **Redução de Tamanho e Custo**:\n",
        "  - Tamanho e custo de computadores diminuíram exponencialmente.\n",
        "  - Computadores portáteis (laptops) substituem desktops tradicionais.\n",
        "- **Lei de Moore**:\n",
        "  - Densidade de transistores em microprocessadores dobra a cada ano (Figura 13.2).\n",
        "  - Aumento contínuo de desempenho computacional desde 1970.\n",
        "- **Velocidade**:\n",
        "  - Capacidade de processamento cresce exponencialmente, revolucionando aplicações de controle.\n",
        "\n",
        "#### Aplicações em Controle Digital\n",
        "- **Indústria**:\n",
        "  - Máquinas-ferramentas, processos metalúrgicos e controle químico.\n",
        "- **Transportes**:\n",
        "  - Controle de aeronaves (Figura 13.3), sistemas de ignição e ar-combustível em motores de automóveis.\n",
        "- **Biomedicina**:\n",
        "  - Medição da refração ocular humana.\n",
        "- **Ambiente**:\n",
        "  - Monitoramento e controle de processos ambientais.\n",
        "- **Automação**:\n",
        "  - Controle de tráfego urbano e sistemas robóticos.\n",
        "\n",
        "#### Vantagens do Controle Digital\n",
        "- **Sensibilidade Aprimorada**:\n",
        "  - Sinais de baixa energia em sensores digitais.\n",
        "- **Imunidade a Ruído**:\n",
        "  - Sinais codificados digitalmente são menos suscetíveis a interferências.\n",
        "- **Flexibilidade**:\n",
        "  - Algoritmos reconfiguráveis via software.\n",
        "- **Integração com Dispositivos Digitais**:\n",
        "  - Compatibilidade com sensores, transdutores e comunicação digital.\n",
        "- **Sistemas Inerentemente Digitais**:\n",
        "  - Compatibilidade com dispositivos que operam via pulsos (ex: encoders)."
      ],
      "metadata": {
        "id": "iMfrczHASPT6"
      }
    },
    {
      "cell_type": "markdown",
      "source": [
        "### 13.3 Sistemas de Dados Amostrados"
      ],
      "metadata": {
        "id": "p6xGj83qSoRy"
      }
    },
    {
      "cell_type": "markdown",
      "source": [
        "#### Visão Geral\n",
        "- **Sistemas de Controle Digital**:\n",
        "  - Computadores interconectados a atuadores e processos por meio de conversores de sinal.\n",
        "  - Saída do computador é processada por um conversor digital-analógico (DAC).\n",
        "- **Período de Amostragem ($T$)**:\n",
        "  - Todos os sinais entram ou saem do computador em intervalos fixos ($T$).\n",
        "  - Sinais discretos: $r(kT)$, $m(kT)$, $u(kT)$.\n",
        "  - Sinais contínuos: $m(t)$, $y(t)$.\n",
        "\n",
        "#### Amostragem de Sinais\n",
        "- **Sinal Amostrado ($r^*(t)$)**:\n",
        "  - Obtido em intervalos discretos $T$.\n",
        "  - Representado por impulsos: $r^*(t) = r(nT) \\delta(t - nT)$.\n",
        "  - Exemplo: Sinal contínuo $r(t)$ é amostrado em $t = kT$, gerando uma sequência de impulsos.\n",
        "\n",
        "#### Conversão Digital-Analógico\n",
        "- **Conversor Digital-Analógico (DAC)**:\n",
        "  - Converte o sinal amostrado $r^*(t)$ em um sinal contínuo $p(t)$.\n",
        "  - Implementado por um **segurardor de ordem zero (ZOH)**:\n",
        "    - Mantém o valor $r(kT)$ constante durante o período $kT \\leq t < (k+1)T$.\n",
        "    - Resposta ao impulso: $G_0(s) = \\frac{1 - e^{-sT}}{s}$.\n",
        "\n",
        "#### Precisão e Limitações\n",
        "- **Precisão**:\n",
        "  - Limitada pelo tamanho da palavra do computador e pelo conversor analógico-digital (ADC).\n",
        "  - Erro de quantização: Diferença entre o valor real e o valor digitalizado.\n",
        "- **Condições de Precisão**:\n",
        "  - Se o erro de quantização e o erro devido ao tamanho finito da palavra forem pequenos em relação à amplitude do sinal, as limitações de precisão podem ser desprezadas.\n",
        "\n",
        "#### Resposta do Sistema\n",
        "- **Seguidor de Ordem Zero**:\n",
        "  - Aproxima o sinal de entrada $r(t)$ se $T$ for pequeno em relação às mudanças do sinal.\n",
        "  - Exemplos:\n",
        "    - Resposta a uma rampa (Figura 13.9).\n",
        "    - Resposta a um sinal exponencial decrescente (Figura 13.10).\n",
        "\n",
        "#### Portanto\n",
        "- Sistemas de dados amostrados são essenciais para controle digital, com amostragem e reconstrução de sinais sendo processos fundamentais.\n",
        "- A precisão do sistema depende da taxa de amostragem e da resolução dos conversores."
      ],
      "metadata": {
        "id": "SiqcFM2VSpgv"
      }
    },
    {
      "cell_type": "markdown",
      "source": [
        "### 13.4 A Transformada Z"
      ],
      "metadata": {
        "id": "SdLXrE83TWGy"
      }
    },
    {
      "cell_type": "markdown",
      "source": [
        "#### Definição e Conceitos Básicos\n",
        "- **Sinal Amostrado ($r^*(t)$)**:\n",
        "  - Representado por uma série de impulsos:\n",
        "    $$ r^*(t) = \\sum_{k=0}^{\\infty} r(kT) \\delta(t - kT). $$\n",
        "  - A transformada de Laplace de $r^*(t)$ é:\n",
        "    $$ \\mathcal{L}\\{r^*(t)\\} = \\sum_{k=0}^{\\infty} r(kT) e^{-ksT}. $$\n",
        "\n",
        "- **Transformada Z**:\n",
        "  - Definida como:\n",
        "    $$ Z\\{r(t)\\} = Z\\{r^*(t)\\} = \\sum_{k=0}^{\\infty} r(kT) z^{-k}, $$\n",
        "    onde $z = e^{sT}$ é uma transformação conforme do plano $s$ para o plano $z$.\n",
        "\n",
        "#### Exemplos de Transformada Z\n",
        "1. **Transformada do Degrau Unitário ($u(t)$)**:\n",
        "   $$ Z\\{u(t)\\} = \\sum_{k=0}^{\\infty} z^{-k} = \\frac{1}{1 - z^{-1}} = \\frac{z}{z - 1}. $$\n",
        "\n",
        "2. **Transformada da Exponencial ($e^{-at}$)**:\n",
        "   $$ Z\\{e^{-at}\\} = \\sum_{k=0}^{\\infty} e^{-akT} z^{-k} = \\frac{1}{1 - (ze^{aT})^{-1}} = \\frac{z}{z - e^{-aT}}. $$\n",
        "\n",
        "3. **Transformada do Seno ($\\sin(\\omega t)$)**:\n",
        "   $$ Z\\{\\sin(\\omega t)\\} = \\frac{z \\sin(\\omega T)}{z^2 - 2z \\cos(\\omega T) + 1}. $$\n",
        "\n",
        "#### Propriedades e Tabelas\n",
        "- **Tabelas de Transformadas**:\n",
        "  - Disponíveis em tabelas como a Tabela 13.1 e no site do MCS.\n",
        "- **Propriedades**:\n",
        "  - Incluem linearidade, deslocamento no tempo e mudança de escala (Tabela 13.2).\n",
        "\n",
        "#### Transformada Inversa\n",
        "- **Métodos de Obtenção**:\n",
        "  1. Expansão de $Y(z)$ em série de potências.\n",
        "  2. Expansão em frações parciais e uso de tabelas.\n",
        "  3. Integral de inversão (não abordado aqui).\n",
        "\n",
        "#### Aplicação em Sistemas de Controle\n",
        "- **Função de Transferência no Domínio $z$**:\n",
        "  - Para um sistema com segurador de ordem zero (ZOH):\n",
        "    $$ G(z) = Z\\{G(s)\\} = (1 - z^{-1}) Z\\left\\{\\frac{1}{s^2(s + 1)}\\right\\}. $$\n",
        "  - Exemplo com $T = 1$:\n",
        "    $$ G(z) = \\frac{0.3678z + 0.2644}{z^2 - 1.3678z + 0.3678}. $$\n",
        "\n",
        "- **Resposta ao Impulso**:\n",
        "  - A resposta $y(kT)$ é obtida dividindo o numerador pelo denominador de $Y(z)$.\n",
        "  - Exemplo: $y(0) = 0$, $y(T) = 0.3678$, $y(2T) = 0.7675$, $y(3T) = 0.9145$.\n",
        "\n",
        "#### Representação em Diagrama de Blocos\n",
        "- **Equação no Domínio $z$**:\n",
        "  $$ Y(z) = G(z) R(z), $$\n",
        "  onde $G(z)$ é a função de transferência no domínio $z$ e $R(z)$ é a entrada amostrada.\n",
        "\n",
        "#### Portanto\n",
        "- A transformada Z é uma ferramenta essencial para análise de sistemas de controle digital, permitindo a manipulação de sinais discretos e a obtenção de respostas temporais em instantes de amostragem."
      ],
      "metadata": {
        "id": "6JKPN_6UTXb4"
      }
    },
    {
      "cell_type": "markdown",
      "source": [
        "### 13.5 Sistemas de Controle com Realimentação e Dados Amostrados"
      ],
      "metadata": {
        "id": "B9XwMmTgT3Ww"
      }
    },
    {
      "cell_type": "markdown",
      "source": [
        "#### Visão Geral\n",
        "- **Sistemas de Controle com Realimentação**:\n",
        "  - Sistemas de controle digital com realimentação utilizam dados amostrados para ajustar a saída.\n",
        "  - A função de transferência em malha fechada é obtida usando a transformada Z.\n",
        "\n",
        "### Função de Transferência em Malha Fechada\n",
        "- **Sistema Básico**:\n",
        "  - Para um sistema com realimentação unitária (Figura 13.14):\n",
        "    $$ T(z) = \\frac{Y(z)}{R(z)} = \\frac{G(z)}{1 + G(z)}, $$\n",
        "    onde $G(z)$ é a transformada Z de $G(s) = G_0(s)G_p(s)$.\n",
        "    - $G_0(s)$: Segurador de ordem zero (ZOH).\n",
        "    - $G_p(s)$: Função de transferência do processo.\n",
        "\n",
        "- **Sistema com Controlador Digital**:\n",
        "  - Para um sistema com controlador digital $D(z)$ (Figura 13.15):\n",
        "    $$ T(z) = \\frac{Y(z)}{R(z)} = \\frac{G(z)D(z)}{1 + G(z)D(z)}. $$\n",
        "\n",
        "#### Exemplo 13.4: Resposta de um Sistema em Malha Fechada\n",
        "- **Função de Transferência**:\n",
        "  - Para o sistema da Figura 13.16, com $G(z)$ dado por:\n",
        "    $$ G(z) = \\frac{0.3678z + 0.2644}{z^2 - z + 0.6322}. $$\n",
        "  - A função de transferência em malha fechada é:\n",
        "    $$ T(z) = \\frac{0.3678z + 0.2644}{z^2 - z + 0.6322}. $$\n",
        "\n",
        "- **Resposta ao Degrau Unitário**:\n",
        "  - Para $R(z) = \\frac{z}{z - 1}$, a saída é:\n",
        "    $$ Y(z) = \\frac{0.3678z^2 + 0.2644z}{z^3 - 2z^2 + 1.6322z - 0.6322}. $$\n",
        "  - Expansão em série:\n",
        "    $$ Y(z) = 0.3678z^{-1} + z^{-2} + 1.4z^{-3} + 1.4z^{-4} + 1.147z^{-5} + \\dots $$\n",
        "  - Resposta temporal:\n",
        "    - Sobressinal: 45% (vs. 17% no sistema contínuo).\n",
        "    - Tempo de acomodação: Dobro do sistema contínuo.\n",
        "\n",
        "#### Estabilidade de Sistemas Amostrados\n",
        "- **Critério de Estabilidade**:\n",
        "  - Um sistema de controle amostrado é estável se todos os polos de $T(z)$ estiverem dentro do círculo unitário no plano $z$.\n",
        "  - Relação entre os planos $s$ e $z$:\n",
        "    $$ z = e^{sT} = e^{(\\sigma + j\\omega)T}. $$\n",
        "    - Eixo imaginário no plano $s$ → Círculo unitário no plano $z$.\n",
        "    - Semi-plano esquerdo no plano $s$ → Interior do círculo unitário no plano $z$.\n",
        "\n",
        "#### Exemplo 13.5: Estabilidade de um Sistema em Malha Fechada\n",
        "- **Função de Transferência**:\n",
        "  - Para $G_p(s) = \\frac{K}{s(s + 1)}$ e $T = 1$:\n",
        "    $$ G(z) = \\frac{K(0.3678z + 0.2644)}{z^2 - 1.3678z + 0.3678}. $$\n",
        "\n",
        "- **Análise de Estabilidade**:\n",
        "  - Equação característica:\n",
        "    $$ q(z) = 1 + G(z) = z^2 - (1 + a)z + a + K(az + b) = 0. $$\n",
        "  - Para $K = 1$:\n",
        "    - Polos: $z = 0.50 \\pm j0.6182$ (estável, dentro do círculo unitário).\n",
        "  - Para $K = 10$:\n",
        "    - Polos: $z = -1.155 \\pm j1.295$ (instável, fora do círculo unitário).\n",
        "  - Intervalo de estabilidade: $0 < K < 2.39$.\n",
        "\n",
        "#### Portanto\n",
        "- Sistemas de controle amostrados com realimentação são analisados usando a transformada Z.\n",
        "- A estabilidade é determinada pela localização dos polos no plano $z$.\n",
        "- Sistemas amostrados podem se tornar instáveis com ganhos altos, ao contrário de sistemas contínuos."
      ],
      "metadata": {
        "id": "Jb_tDmmUT4ii"
      }
    },
    {
      "cell_type": "markdown",
      "source": [
        "### 13.6 Desempenho de um Sistema de Segunda Ordem com Dados Amostrados"
      ],
      "metadata": {
        "id": "EQVeKjZvUedo"
      }
    },
    {
      "cell_type": "markdown",
      "source": [
        "#### Visão Geral\n",
        "- **Sistema Analisado**:\n",
        "  - Sistema de segunda ordem com segurador de ordem zero (ZOH) e função de transferência do processo:\n",
        "    $$ G_p(s) = \\frac{K}{s(\\tau s + 1)}. $$\n",
        "  - A função de transferência no domínio $z$ é:\n",
        "    $$ G(z) = \\frac{K\\{ (z - E)[T - \\tau(z - 1)] + \\tau(z - 1)^2 \\}}{(z - 1)(z - E)}, $$\n",
        "    onde $E = e^{-T/\\tau}$.\n",
        "\n",
        "#### Estabilidade do Sistema\n",
        "- **Equação Característica**:\n",
        "  $$ q(z) = z^2 + z\\{K[T - \\tau(1 - E)] - (1 + E)\\} + K[\\tau(1 - E) - TE] + E = 0. $$\n",
        "- **Condições de Estabilidade**:\n",
        "  - $|q(0)| < 1$,\n",
        "  - $q(1) > 0$,\n",
        "  - $q(-1) > 0$.\n",
        "- **Ganho Máximo Permitido**:\n",
        "  - Para estabilidade:\n",
        "    $$ K\\tau < \\frac{1 - E}{1 - E - (T/\\tau)E}. $$\n",
        "  - Tabela 13.3 fornece valores máximos de $K$ para diferentes $T/\\tau$.\n",
        "\n",
        "#### Desempenho do Sistema\n",
        "- **Sobressinal Máximo**:\n",
        "  - O sobressinal percentual para uma entrada degrau é mostrado na Figura 13.19.\n",
        "- **Critério de Desempenho (Erro Quadrático Integral)**:\n",
        "  $$ I = \\frac{1}{\\tau} \\int_0^\\infty e^2(t) \\, dt. $$\n",
        "  - Curvas de $I$ constante são mostradas na Figura 13.20.\n",
        "  - Para minimizar $I$, escolha $K\\tau$ conforme a curva ótima na Figura 13.20.\n",
        "    - Exemplo: Para $T/\\tau = 0.75$, $K\\tau = 1$ minimiza $I$.\n",
        "\n",
        "- **Erro de Estado Estacionário para Rampa**:\n",
        "  - O erro para uma entrada rampa $r(t) = t$ é mostrado na Figura 13.21.\n",
        "  - Reduzir o erro de estado estacionário aumenta o sobressinal e o tempo de acomodação.\n",
        "\n",
        "#### Exemplo 13.6: Projeto de um Sistema Amostrado\n",
        "- **Função de Transferência**:\n",
        "  $$ G_p(s) = \\frac{K}{s(0.1s + 1)}. $$\n",
        "- **Objetivo**:\n",
        "  - Escolher $T$ e $K$ para:\n",
        "    - Sobressinal $P.O. \\leq 30\\%$ para entrada degrau.\n",
        "    - Erro de estado estacionário aceitável para entrada rampa.\n",
        "- **Solução**:\n",
        "  - Para $P.O. = 30\\%$, escolha $T/\\tau = 0.25$ e $K\\tau = 1.4$.\n",
        "  - Com $\\tau = 0.1$, temos:\n",
        "    - $T = 0.025$ s,\n",
        "    - $K = 14$.\n",
        "  - Taxa de amostragem: 40 amostras por segundo.\n",
        "  - Erro de estado estacionário para rampa: $e_{ss} \\approx 0.6$.\n",
        "\n",
        "- **Melhoria de Desempenho**:\n",
        "  - Para $T/\\tau = 0.1$:\n",
        "    - Sobressinal reduzido: $P.O. = 25\\%$ com $K\\tau = 1.6$.\n",
        "    - Erro de estado estacionário: $e_{ss} \\approx 0.55$.\n",
        "\n",
        "#### Portanto\n",
        "- O projeto de sistemas amostrados de segunda ordem envolve a escolha de $T$ e $K$ para equilibrar:\n",
        "  - Estabilidade,\n",
        "  - Sobressinal,\n",
        "  - Erro de estado estacionário.\n",
        "- Figuras 13.19–13.21 são ferramentas úteis para selecionar parâmetros ótimos."
      ],
      "metadata": {
        "id": "dKPk3V_aUgIk"
      }
    },
    {
      "cell_type": "markdown",
      "source": [
        " ### 13.7 Sistemas de Malha Fechada com Compensação Digital\n"
      ],
      "metadata": {
        "id": "bxEPAc4hVSkg"
      }
    },
    {
      "cell_type": "markdown",
      "source": [
        "#### Visão Geral\n",
        "- **Sistema de Controle Digital**:\n",
        "  - Um sistema de malha fechada com compensação digital utiliza um computador para melhorar o desempenho.\n",
        "  - A função de transferência em malha fechada é:\n",
        "    $$ T(z) = \\frac{Y(z)}{R(z)} = \\frac{G(z)D(z)}{1 + G(z)D(z)}, $$\n",
        "    onde:\n",
        "    - $G(z)$: Função de transferência do processo amostrado.\n",
        "    - $D(z)$: Função de transferência do compensador digital.\n",
        "\n",
        "#### Projeto do Compensador Digital\n",
        "- **Função do Compensador**:\n",
        "  - O compensador digital é representado por:\n",
        "    $$ D(z) = \\frac{U(z)}{E(z)}. $$\n",
        "  - No exemplo, o compensador é escolhido para cancelar um polo de $G(z)$ e ajustar parâmetros para melhorar o desempenho.\n",
        "\n",
        "- **Exemplo de Compensação**:\n",
        "  - Para o sistema com:\n",
        "    $$ G_p(s) = \\frac{1}{s(s + 1)}, \\quad T = 1, $$\n",
        "    a função de transferência amostrada é:\n",
        "    $$ G(z) = \\frac{0.3678(z + 0.7189)}{(z - 1)(z - 0.3678)}. $$\n",
        "  - Escolhendo:\n",
        "    $$ D(z) = \\frac{1.359(z - 0.3678)}{z + 0.240}, $$\n",
        "    a função de transferência compensada é:\n",
        "    $$ G(z)D(z) = \\frac{0.50(z + 0.7189)}{(z - 1)(z + 0.240)}. $$\n",
        "  - Resultado:\n",
        "    - Sobressinal reduzido de 45% para 4%.\n",
        "    - Resposta ao degrau atinge o valor desejado no quarto instante de amostragem.\n",
        "\n",
        "#### Métodos de Projeto do Compensador\n",
        "1. **Conversão de $G_c(s)$ para $D(z)$**:\n",
        "   - Projeta-se um compensador contínuo $G_c(s)$ e converte-se para o domínio $z$.\n",
        "   - Para um compensador de primeira ordem:\n",
        "     $$ G_c(s) = K \\frac{s + a}{s + b}, $$\n",
        "     o compensador digital é:\n",
        "     $$ D(z) = C \\frac{z - A}{z - B}, $$\n",
        "     onde:\n",
        "     - $A = e^{-aT}$,\n",
        "     - $B = e^{-bT}$,\n",
        "     - $C$ é ajustado para satisfazer $G_c(0) = D(1)$.\n",
        "\n",
        "2. **Método do Lugar das Raízes no Plano $z$**:\n",
        "   - Projeta-se $D(z)$ diretamente no plano $z$ (abordado na Seção 13.8).\n",
        "\n",
        "#### Exemplo 13.7: Projeto para Atender a uma Especificação de Margem de Fase\n",
        "- **Processo**:\n",
        "  $$ G_p(s) = \\frac{1740}{s(0.25s + 1)}. $$\n",
        "- **Objetivo**:\n",
        "  - Margem de fase de 45° com frequência de cruzamento $ω_c = 125$ rad/s.\n",
        "- **Compensador Contínuo**:\n",
        "  $$ G_c(s) = 5 \\frac{s + 50}{s + 275}. $$\n",
        "- **Conversão para Compensador Digital**:\n",
        "  - Com $T = 0.003$ s:\n",
        "    $$ A = e^{-0.15} = 0.86, \\quad B = e^{-0.827} = 0.44, \\quad C = 3.66. $$\n",
        "  - Compensador digital:\n",
        "    $$ D(z) = \\frac{3.66(z - 0.86)}{z - 0.44}. $$\n",
        "\n",
        "#### Escolha do Período de Amostragem\n",
        "- **Critério Geral**:\n",
        "  - Escolha $T \\approx \\frac{1}{10f_B}$, onde $f_B = \\frac{ω_B}{2π}$ é a largura de banda do sistema contínuo.\n",
        "  - No Exemplo 13.7:\n",
        "    - $ω_B = 208$ rad/s ($f_B = 33.2$ Hz).\n",
        "    - Período de amostragem escolhido: $T = 0.003$ s.\n",
        "\n",
        "#### Portanto\n",
        "- A compensação digital permite melhorar significativamente o desempenho de sistemas de controle.\n",
        "- Métodos como a conversão de $G_c(s)$ para $D(z)$ e o lugar das raízes no plano $z$ são eficazes para o projeto de compensadores.\n",
        "- A escolha do período de amostragem é crucial para garantir precisão e eficiência computacional."
      ],
      "metadata": {
        "id": "A0wJWxXHVTbl"
      }
    },
    {
      "cell_type": "markdown",
      "source": [
        "### 13.8 Lugar das Raízes em Sistemas de Controle Digital"
      ],
      "metadata": {
        "id": "yVr-GESMVwkY"
      }
    },
    {
      "cell_type": "markdown",
      "source": [
        "#### Visão Geral\n",
        "- **Função de Transferência em Malha Fechada**:\n",
        "  - Para um sistema com compensador digital $D(z)$:\n",
        "    $$ \\frac{Y(z)}{R(z)} = \\frac{KG(z)D(z)}{1 + KG(z)D(z)}. $$\n",
        "  - A equação característica é:\n",
        "    $$ 1 + KG(z)D(z) = 0. $$\n",
        "  - O lugar das raízes é traçado para analisar a estabilidade e o desempenho do sistema conforme $K$ varia.\n",
        "\n",
        "#### Exemplo 13.8: Lugar das Raízes de um Sistema de Segunda Ordem\n",
        "- **Sistema Analisado**:\n",
        "  - $D(z) = 1$ e $G_p(s) = \\frac{1}{s^2}$.\n",
        "  - Com $T = \\sqrt{2}$, a função de transferência amostrada é:\n",
        "    $$ KG(z) = \\frac{K(z + 1)}{(z - 1)^2}. $$\n",
        "- **Análise de Estabilidade**:\n",
        "  - Polos em $z = 1$ (duplo) e zero em $z = -1$.\n",
        "  - O lugar das raízes mostra que o sistema é **sempre instável** para $K > 0$, com dois polos fora do círculo unitário.\n",
        "\n",
        "#### Projeto de Compensadores Digitais\n",
        "- **Compensador Digital**:\n",
        "  - Escolha de $D(z) = \\frac{z - a}{z - b}$ para:\n",
        "    - Cancelar um polo de $G(z)$ no eixo real positivo.\n",
        "    - Posicionar polos complexos dentro do círculo unitário para estabilidade.\n",
        "- **Exemplo 13.9: Projeto de um Compensador**:\n",
        "  - Para $G_p(s) = \\frac{1}{s^2}$, escolhe-se:\n",
        "    $$ D(z) = \\frac{z - 1}{z - 0.2}. $$\n",
        "  - A função de transferência compensada é:\n",
        "    $$ KG(z)D(z) = \\frac{K(z + 1)}{(z - 1)(z - 0.2)}. $$\n",
        "  - O sistema se torna estável para $K < 0.8$.\n",
        "  - Para $K = 0.25$, o sistema tem:\n",
        "    - Sobressinal: 20%.\n",
        "    - Tempo de acomodação: 8.5 s.\n",
        "\n",
        "#### Linhas de Coeficiente de Amortecimento Constante ($\\zeta$)\n",
        "- **Mapeamento $s$-Plano para $z$-Plano**:\n",
        "  - Relação: $z = e^{sT} = e^{(\\sigma + j\\omega)T}$.\n",
        "  - Para $\\zeta$ constante:\n",
        "    $$ \\sigma = -\\frac{\\zeta}{\\sqrt{1 - \\zeta^2}} \\omega. $$\n",
        "  - Linhas de $\\zeta$ constante no plano $z$ são curvas que dependem de $T$.\n",
        "- **Caso Comum**:\n",
        "  - Para $\\zeta = \\frac{1}{\\sqrt{2}}$:\n",
        "    $$ \\sigma = -\\omega \\quad \\text{e} \\quad z = e^{-\\omega T} e^{j\\omega T}. $$\n",
        "\n",
        "#### Portanto\n",
        "- O lugar das raízes é uma ferramenta poderosa para analisar e projetar sistemas de controle digital.\n",
        "- Compensadores digitais podem ser projetados para melhorar a estabilidade e o desempenho do sistema.\n",
        "- O mapeamento entre os planos $s$ e $z$ permite visualizar linhas de $\\zeta$ constante, auxiliando no projeto de sistemas com requisitos de amortecimento específicos."
      ],
      "metadata": {
        "id": "so3HF-5WVyEu"
      }
    },
    {
      "cell_type": "markdown",
      "source": [
        "### 13.9 Implementação de Controladores Digitais"
      ],
      "metadata": {
        "id": "TvkIlN8vXa1e"
      }
    },
    {
      "cell_type": "markdown",
      "source": [
        "#### Visão Geral\n",
        "- **Controlador PID**:\n",
        "  - A função de transferência no domínio $s$ é:\n",
        "    $$ G_c(s) = K_P + \\frac{K_I}{s} + K_D s. $$\n",
        "  - Para implementação digital, aproximações discretas são usadas para derivadas e integrais.\n",
        "\n",
        "#### Aproximações Discretas\n",
        "1. **Derivada (Diferença para Trás)**:\n",
        "   - A derivada é aproximada por:\n",
        "     $$ u(kT) = \\frac{dx}{dt} \\bigg|_{t=kT} \\approx \\frac{x(kT) - x((k-1)T)}{T}. $$\n",
        "   - A transformada $z$ dessa aproximação é:\n",
        "     $$ U(z) = \\frac{1 - z^{-1}}{T} X(z) = \\frac{z - 1}{Tz} X(z). $$\n",
        "\n",
        "2. **Integral (Regra Retangular para Frente)**:\n",
        "   - A integral é aproximada por:\n",
        "     $$ u(kT) = u((k-1)T) + T x(kT). $$\n",
        "   - A transformada $z$ dessa aproximação é:\n",
        "     $$ U(z) = z^{-1} U(z) + T X(z), $$\n",
        "     resultando na função de transferência:\n",
        "     $$ \\frac{U(z)}{X(z)} = \\frac{Tz}{z - 1}. $$\n",
        "\n",
        "#### Função de Transferência Digital do PID\n",
        "- Combinando as aproximações, a função de transferência no domínio $z$ é:\n",
        "  $$ G_c(z) = K_P + \\frac{K_I T z}{z - 1} + \\frac{K_D (z - 1)}{T z}. $$\n",
        "\n",
        "#### Algoritmo de Diferenças para o PID\n",
        "- A equação de diferenças que implementa o controlador PID é:\n",
        "  $$ u(k) = K_P x(k) + K_I [u(k-1) + T x(k)] + \\frac{K_D}{T} [x(k) - x(k-1)]. $$\n",
        "- Simplificando:\n",
        "  $$ u(k) = \\left[K_P + K_I T + \\frac{K_D}{T}\\right] x(k) - \\frac{K_D}{T} x(k-1) + K_I u(k-1). $$\n",
        "\n",
        "#### Implementação Prática\n",
        "- **Controladores PI e PD**:\n",
        "  - Para um controlador PI, defina $K_D = 0$.\n",
        "  - Para um controlador PD, defina $K_I = 0$.\n",
        "- **Uso de Microcontroladores**:\n",
        "  - O algoritmo pode ser implementado em um microcontrolador ou computador digital.\n",
        "  - Requer armazenamento dos valores anteriores de $x(k)$ e $u(k)$.\n",
        "\n",
        "#### Portanto\n",
        "- A implementação digital de controladores PID envolve a discretização das operações de derivada e integral.\n",
        "- O algoritmo de diferenças resultante é eficiente para implementação em sistemas digitais.\n",
        "- Controladores PI e PD podem ser obtidos ajustando os ganhos $K_I$ ou $K_D$ para zero."
      ],
      "metadata": {
        "id": "251q6GHOXdhh"
      }
    },
    {
      "cell_type": "markdown",
      "source": [
        "### 13.10 Exemplos de Projeto de Sistemas de Controle Digital"
      ],
      "metadata": {
        "id": "CPRy3i_NX0KT"
      }
    },
    {
      "cell_type": "markdown",
      "source": [
        "#### Exemplo 13.10: Controle de Movimento de uma Mesa de Trabalho\n",
        "\n",
        "#### Contexto\n",
        "- **Sistema**: Mesa de trabalho controlada por um motor e fuso de esferas.\n",
        "- **Objetivo**: Posicionamento rápido com:\n",
        "  - Sobressinal máximo: 5%.\n",
        "  - Tempo de subida e acomodação mínimos.\n",
        "\n",
        "#### Especificações\n",
        "1. Sobressinal: $P.O. \\leq 5\\%$.\n",
        "2. Tempo de acomodação ($T_s$) e subida ($T_r$) mínimos.\n",
        "\n",
        "#### Projeto do Controlador\n",
        "- **Função de Transferência do Sistema**:\n",
        "  $$ G_p(s) = \\frac{1}{s(s + 10)(s + 20)}. $$\n",
        "- **Controlador Contínuo**:\n",
        "  $$ G_c(s) = \\frac{K(s + a)}{s + b}. $$\n",
        "  - Para $a = 30$ e $b = 25$, o lugar das raízes é ajustado para $K = 545$.\n",
        "  - Resultado:\n",
        "    - Sobressinal: 5%.\n",
        "    - Tempo de acomodação: 1.18 s.\n",
        "    - Tempo de subida: 0.4 s.\n",
        "\n",
        "- **Controlador Digital**:\n",
        "  - Período de amostragem: $T = 0.12$ s.\n",
        "  - Compensador digital:\n",
        "    $$ D(z) = 638 \\frac{z - 0.03}{z - 0.05}. $$\n",
        "\n",
        "#### Portanto\n",
        "- O controlador digital atende às especificações com desempenho semelhante ao sistema contínuo.\n",
        "\n",
        "---\n",
        "\n",
        "## Exemplo 13.11: Superfície de Controle de Aeronave (Fly-by-Wire)\n",
        "\n",
        "#### Contexto\n",
        "- **Sistema**: Atuador de superfície de controle de aeronave (fly-by-wire).\n",
        "- **Objetivo**: Controlar o ângulo da superfície de controle para seguir um comando desejado.\n",
        "\n",
        "#### Especificações\n",
        "1. Sobressinal: $P.O. \\leq 5\\%$.\n",
        "2. Tempo de acomodação: $T_s \\leq 1$ s.\n",
        "\n",
        "#### Projeto do Controlador\n",
        "- **Função de Transferência do Sistema**:\n",
        "  $$ G_p(s) = \\frac{1}{s(s + 1)}. $$\n",
        "- **Seguidor de Ordem Zero (ZOH)**:\n",
        "  $$ G_o(s) = \\frac{1 - e^{-sT}}{s}. $$\n",
        "- **Função de Transferência Combinada**:\n",
        "  $$ G(s) = G_o(s) G_p(s) = \\frac{1 - e^{-sT}}{s^2(s + 1)}. $$\n",
        "- **Transformada Z**:\n",
        "  - Para $T = 0.1$ s:\n",
        "    $$ G(z) = \\frac{0.004837z + 0.004679}{(z - 1)(z - 0.9048)}. $$\n",
        "\n",
        "#### Projeto do Compensador Digital\n",
        "- **Compensador Proporcional**:\n",
        "  - $D(z) = K$ não atende às especificações.\n",
        "- **Compensador Avanço**:\n",
        "  $$ D(z) = K \\frac{z - a}{z - b}. $$\n",
        "  - Escolha de $a = -0.9048$ (cancelamento do polo em $z = 0.9048$).\n",
        "  - Escolha de $b = 0.25$ para posicionar os polos na região desejada.\n",
        "  - Ganho: $K = 70$.\n",
        "  - Compensador final:\n",
        "    $$ D(z) = 70 \\frac{z - 0.9048}{z + 0.25}. $$\n",
        "\n",
        "#### Resultados\n",
        "- **Resposta ao Degrau**:\n",
        "  - Sobressinal: 5%.\n",
        "  - Tempo de acomodação: $< 1$ s (10 amostras com $T = 0.1$ s).\n",
        "\n",
        "- O compensador digital atende às especificações de desempenho.\n",
        "- O uso de técnicas de lugar das raízes no plano $z$ permite o posicionamento preciso dos polos.\n",
        "\n",
        "---\n",
        "\n",
        "#### Técnicas de Projeto\n",
        "1. **Lugar das Raízes no Plano $z$**:\n",
        "   - Permite a análise de estabilidade e desempenho.\n",
        "   - Regiões de desempenho são definidas por:\n",
        "     - Círculo de raio $r_o = e^{-4T/T_s}$ para tempo de acomodação.\n",
        "     - Linhas de $\\zeta$ constante para sobressinal.\n",
        "\n",
        "2. **Compensação Digital**:\n",
        "   - Cancelamento de polos indesejados.\n",
        "   - Ajuste de ganho e posicionamento de polos para atender especificações.\n",
        "\n",
        "---\n",
        "- O projeto de controladores digitais envolve a conversão de controladores contínuos para o domínio $z$ e o uso de técnicas de lugar das raízes.\n",
        "- A escolha do período de amostragem e dos parâmetros do compensador é crucial para atender às especificações de desempenho."
      ],
      "metadata": {
        "id": "KGYJdpIvX1Ez"
      }
    },
    {
      "cell_type": "markdown",
      "source": [
        "### 13.11 Sistemas de Controle Digital usando Software de Projeto de Controle"
      ],
      "metadata": {
        "id": "H49tq2Z_b6_I"
      }
    },
    {
      "cell_type": "markdown",
      "source": [
        "O processo de projeto e análise de sistemas de dados amostrados é aprimorado com o uso de ferramentas interativas de computador. Muitas das funções de projeto de controle para sistemas de tempo contínuo têm equivalentes para sistemas de dados amostrados.\n",
        "\n",
        "#### Funções Principais\n",
        "\n",
        "- **Função `tf`**: Usada para obter objetos de modelo de função de transferência em tempo discreto.\n",
        "- **Funções `c2d` e `d2c`**:\n",
        "  - `c2d`: Converte sistemas de tempo contínuo para tempo discreto.\n",
        "  - `d2c`: Converte sistemas de tempo discreto para tempo contínuo.\n",
        "\n",
        "#### Exemplo de Conversão\n",
        "Para a função de transferência do processo:\n",
        "\\[ G_p(s) = \\frac{1}{s(s+1)} \\]\n",
        "Com um período de amostragem \\( T = 1 \\) s, a função de transferência discreta é:\n",
        "\\[ G(z) = \\frac{0.3678(z + 0.7189)}{(z - 1)(z - 0.3680)} = \\frac{0.3679z + 0.2644}{z^2 - 1.368z + 0.3680} \\]\n",
        "\n",
        "#### Simulação de Sistemas de Dados Amostrados\n",
        "\n",
        "- **Função `step`**: Gera a resposta ao degrau unitário.\n",
        "- **Função `impulse`**: Gera a resposta ao impulso unitário.\n",
        "- **Função `lsim`**: Obtém a resposta a uma entrada arbitrária.\n",
        "\n",
        "#### Exemplo 13.12: Resposta ao Degrau Unitário\n",
        "Para a função de transferência de malha fechada:\n",
        "\\[ \\frac{Y(z)}{R(z)} = \\frac{0.3678z + 0.2644}{z^2 - z + 0.6322} \\]\n",
        "A resposta ao degrau é gerada usando a função `step`. Para determinar a resposta contínua \\( y(t) \\), usa-se um script m-file que modela o seguidor de ordem zero (ZOH) com a função de transferência:\n",
        "\\[ G_0(s) = \\frac{1 - e^{-sT}}{s} \\]\n",
        "Aproximando \\( e^{-sT} \\) com a função `pade` de segunda ordem e \\( T = 1 \\) s.\n",
        "\n",
        "---\n",
        "\n",
        "#### Compensação Digital\n",
        "\n",
        "#### Exemplo 13.13: Lugar das Raízes de um Sistema de Controle Digital\n",
        "Considere:\n",
        "\\[ G(z) = \\frac{0.3678(z + 0.7189)}{(z - 1)(z - 0.3680)} \\]\n",
        "E o compensador:\n",
        "\\[ D(z) = K \\frac{z - 0.3678}{z + 0.2400} \\]\n",
        "O lugar das raízes é gerado usando a função `rlocus`. A região de estabilidade é definida pelo círculo unitário no plano complexo. Usando `rlocfind`, determina-se que \\( K = 4.639 \\) coloca as raízes no círculo unitário.\n",
        "\n",
        "#### Portanto\n",
        "O uso de software de projeto de controle facilita a análise e o projeto de sistemas de controle digital, permitindo a conversão entre sistemas contínuos e discretos, simulação de respostas e análise de estabilidade através do lugar das raízes."
      ],
      "metadata": {
        "id": "xR07uD1Kb8a0"
      }
    },
    {
      "cell_type": "markdown",
      "source": [
        "### 13.12 Exemplo de Projeto Sequencial: Sistema de Leitura de Disco"
      ],
      "metadata": {
        "id": "GmVsZxx-sobd"
      }
    },
    {
      "cell_type": "markdown",
      "source": [
        "#### Objetivo\n",
        "Projetar um controlador digital $D(z)$ para um sistema de posicionamento de cabeça de leitura em disco, com período de amostragem $T = 1 \\, \\text{ms}$.\n",
        "\n",
        "---\n",
        "\n",
        "#### Passos do Projeto\n",
        "\n",
        "#### 1. **Modelagem do Sistema**\n",
        "- **Planta Analógica**:  \n",
        "  $G_p(s) = \\frac{5}{s(s + 20)}$\n",
        "- **ZOH (Zero-Order Hold)**:  \n",
        "  $G_0(s) = \\frac{1 - e^{-sT}}{s}$\n",
        "- **Sistema Combinado**:  \n",
        "  $G_0(s)G_p(s) = \\frac{1 - e^{-sT}}{s} \\cdot \\frac{5}{s(s + 20)}$\n",
        "\n",
        "#### 2. **Aproximação do Sistema**\n",
        "- **Justificativa**: Para $T = 1 \\, \\text{ms}$, o polo em $s = -20$ tem efeito insignificante ($e^{-sT} \\approx 0.98$).  \n",
        "- **Simplificação**:  \n",
        "  $G_p(s) \\approx \\frac{0.25}{s}$\n",
        "\n",
        "#### 3. **Transformada $\\mathcal{Z}$**\n",
        "- **Cálculo de $G(z)$**:\n",
        "  $G(z) = \\mathcal{Z}\\left\\{G_0(s)G_p(s)\\right\\} = (1 - z^{-1}) \\cdot 0.25 \\cdot \\mathcal{Z}\\left\\{\\frac{1}{s^2}\\right\\}$\n",
        "  $G(z) = \\frac{0.25T}{z - 1} = \\frac{0.25 \\times 10^{-3}}{z - 1}$\n",
        "\n",
        "#### 4. **Projeto do Controlador**\n",
        "- **Controlador Proporcional**:  \n",
        "  $D(z) = K$\n",
        "- **Função de Transferência em Malha Aberta**:  \n",
        "  $D(z)G(z) = \\frac{K \\cdot 0.25 \\times 10^{-3}}{z - 1}$\n",
        "- **Seleção de $K$**:  \n",
        "  Para $K = 4000$:  \n",
        "  $D(z)G(z) = \\frac{1}{z - 1}$\n",
        "\n",
        "#### 5. **Resposta em Malha Fechada**\n",
        "- **Função de Transferência**:  \n",
        "  $T(z) = \\frac{D(z)G(z)}{1 + D(z)G(z)} = \\frac{1}{z}$\n",
        "- **Desempenho**:  \n",
        "  - **Sobressinal**: $0\\%$  \n",
        "  - **Tempo de Acomodação**: $T_s = 2 \\, \\text{ms}$\n",
        "\n",
        "---\n",
        "\n",
        "O controlador proporcional $D(z) = 4000$ resulta em uma resposta **deadbeat** (assentamento em 1 período de amostragem), garantindo estabilidade e desempenho ótimo para o sistema de leitura de disco."
      ],
      "metadata": {
        "id": "og5kRDrPsp5a"
      }
    },
    {
      "cell_type": "markdown",
      "source": [
        "### 13.13 Resumo do capítulo"
      ],
      "metadata": {
        "id": "FTH7Z4vevE9N"
      }
    },
    {
      "cell_type": "markdown",
      "source": [
        "O uso de um computador digital como dispositivo de compensação para sistemas de controle em malha fechada tem crescido nas últimas duas décadas, devido à melhoria significativa no preço e na confiabilidade dos computadores. Um computador pode ser utilizado para realizar vários cálculos durante o intervalo de amostragem $T$ e fornecer um sinal de saída utilizado para acionar um atuador do processo. O controle por computador é amplamente utilizado hoje em processos químicos, controle de aeronaves, máquinas-ferramenta e muitos processos comuns. A transformada $z$ pode ser usada para analisar a estabilidade e a resposta de um sistema amostrado e para projetar sistemas adequados que incorporam um computador. Sistemas de controle por computador se tornaram cada vez mais comuns à medida que os computadores de baixo custo se tornaram amplamente disponíveis."
      ],
      "metadata": {
        "id": "ofj0-5YfvGHS"
      }
    }
  ]
}