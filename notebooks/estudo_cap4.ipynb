{
  "nbformat": 4,
  "nbformat_minor": 0,
  "metadata": {
    "colab": {
      "provenance": [],
      "collapsed_sections": [
        "xI_bj0xLRd3f",
        "7E9uBZQtNFo4",
        "TiLDmjJzRXPo",
        "oPz9UsF1Rzx_",
        "5km5kXrpUsSY",
        "wk15kWcNU59B",
        "QruxL9SqaSvb",
        "weLH02ZDbDOY",
        "sohmYSQ-4RjC"
      ]
    },
    "kernelspec": {
      "name": "python3",
      "display_name": "Python 3"
    },
    "language_info": {
      "name": "python"
    }
  },
  "cells": [
    {
      "cell_type": "markdown",
      "source": [
        "# Estudo Dirigido: Controle e Automação\n",
        "\n",
        "#### - Ismael Marinho Rocha\n"
      ],
      "metadata": {
        "id": "5oSOypFYM61e"
      }
    },
    {
      "cell_type": "markdown",
      "source": [
        "## 4. Sistemas de Controle com Realimentação (Feedback)"
      ],
      "metadata": {
        "id": "1MogYyyUNc9o"
      }
    },
    {
      "cell_type": "markdown",
      "source": [
        "### 4.1 Introdução"
      ],
      "metadata": {
        "id": "xI_bj0xLRd3f"
      }
    },
    {
      "cell_type": "markdown",
      "source": [
        "\n",
        "\n",
        "#### Definição e Conceito Básico\n",
        "- **Sistema de controle**: Interconexão de componentes projetada para alcançar uma resposta desejada.  \n",
        "- **Feedback (malha fechada)**:  \n",
        "  - Gera um **sinal de erro** proporcional à diferença entre a resposta desejada e a real.  \n",
        "  - Utiliza esse sinal para ajustar o processo, criando um ciclo contínuo de correção.  \n",
        "  - Presente em sistemas artificiais e naturais (ex.: controle da frequência cardíaca humana).  \n",
        "\n",
        "---\n",
        "\n",
        "#### Sistemas de Malha Aberta vs. Malha Fechada\n",
        "| **Característica**               | **Malha Aberta**                                                                 | **Malha Fechada**                                                                 |\n",
        "|-----------------------------------|-----------------------------------------------------------------------------------|-----------------------------------------------------------------------------------|\n",
        "| **Feedback**                      | Não utiliza.                                                                      | Utiliza feedback para correção em tempo real.                                     |\n",
        "| **Sensibilidade**                 | Alta sensibilidade a distúrbios (ex.: \\( T_d(s) \\)) e variações de parâmetros.   | Reduzida sensibilidade a distúrbios e variações.                                 |\n",
        "| **Complexidade**                  | Simples, mas limitado.                                                            | Mais complexo, porém robusto.                                                    |\n",
        "| **Ajuste**                        | Requer controlador em cascata (\\( G_c(s) \\)) para melhorias.                      | Ajusta dinamicamente a resposta via feedback.                                    |\n",
        "\n",
        "---\n",
        "\n",
        "#### Vantagens do Sistema de Malha Fechada\n",
        "1. **Redução de Sensibilidade**:  \n",
        "   - Menos afetado por variações nos parâmetros do processo (\\( G(s) \\)).  \n",
        "2. **Rejeição de Distúrbios**:  \n",
        "   - Minimiza impactos de interferências externas (ex.: \\( T_d(s) \\)).  \n",
        "3. **Atenuação de Ruído**:  \n",
        "   - Filtra ruídos nas medições do sistema.  \n",
        "4. **Erro em Regime Permanente**:  \n",
        "   - Reduz o erro estacionário após estabilização.  \n",
        "5. **Controle da Resposta Transitória**:  \n",
        "   - Facilita ajustes de overshoot, tempo de acomodação e oscilações.  \n",
        "\n",
        "---\n",
        "\n",
        "#### Aplicações e Considerações\n",
        "- **Sistemas multi-malha**: Embora complexos, baseiam-se nos princípios de sistemas de malha única.  \n",
        "- **Projeto do controlador**: O feedback permite integrar um controlador (\\( G_c(s) \\)) para otimizar a função de transferência (\\( G_c(s)G(s) \\)).  \n",
        "- **Natureza e tecnologia**: Estratégias de feedback são universais, presentes tanto em sistemas biológicos quanto em engenharia."
      ],
      "metadata": {
        "id": "7E9uBZQtNFo4"
      }
    },
    {
      "cell_type": "markdown",
      "source": [
        "### 4.2 Análise do Sinal de Erro"
      ],
      "metadata": {
        "id": "TiLDmjJzRXPo"
      }
    },
    {
      "cell_type": "markdown",
      "source": [
        "O sistema de controle em malha fechada possui três entradas — $R(s)$ (referência), $T_d(s)$ (distúrbio) e $N(s)$ (ruído de medição) — e uma saída $Y(s)$. O erro de seguimento é definido como:\n",
        "\n",
        "$$ E(s) = R(s) - Y(s) $$\n",
        "\n",
        "Considerando uma realimentação unitária ($H(s) = 1$), após manipulação do diagrama em blocos, obtemos:\n",
        "\n",
        "$$ E(s) = \\frac{1}{1 + L(s)} R(s) - \\frac{G(s)}{1 + L(s)} T_d(s) + \\frac{L(s)}{1 + L(s)} N(s) $$\n",
        "\n",
        "onde $L(s) = G_c(s)G(s)$ é o ganho de malha. Definem-se as funções de sensibilidade e complementar como:\n",
        "\n",
        "- **Função de sensibilidade:** $S(s) = \\frac{1}{1 + L(s)}$\n",
        "- **Função de sensibilidade complementar:** $C(s) = \\frac{L(s)}{1 + L(s)}$\n",
        "\n",
        "Essas funções estão relacionadas por:\n",
        "\n",
        "$$ S(s) + C(s) = 1 $$\n",
        "\n",
        "#### Controle do Erro de Seguimento\n",
        "\n",
        "O controle do erro de seguimento envolve:\n",
        "\n",
        "- Tornar $L(s)$ grande em **baixas frequências** para rejeitar **distúrbios** ($T_d(s)$).\n",
        "- Tornar $L(s)$ pequeno em **altas frequências** para atenuar **ruídos de medição** ($N(s)$).\n",
        "\n",
        "Como $L(s)$ depende do controlador $G_c(s)$, o engenheiro precisa equilibrar esses objetivos durante o projeto, garantindo que o ganho de malha seja ajustado de acordo com as frequências relevantes.\n",
        "\n",
        "Por fim, a próxima seção explora como o feedback pode reduzir a sensibilidade do sistema a variações nos parâmetros de $G(s)$.\n"
      ],
      "metadata": {
        "id": "EnzUPUMNNvo0"
      }
    },
    {
      "cell_type": "markdown",
      "source": [
        "### 4.3 Sensibilidade dos Sistemas de Controle às Variações de Parâmetros"
      ],
      "metadata": {
        "id": "oPz9UsF1Rzx_"
      }
    },
    {
      "cell_type": "markdown",
      "source": [
        "\n",
        "\n",
        "#### Introdução\n",
        "\n",
        "- Sistemas de controle estão sujeitos a mudanças ambientais, envelhecimento, incertezas nos parâmetros, etc.\n",
        "- **Sistemas em malha aberta**: essas mudanças resultam em saídas imprecisas.\n",
        "- **Sistemas em malha fechada**: detectam alterações nas saídas e tentam corrigir o erro, reduzindo a sensibilidade às variações de parâmetros.\n",
        "\n",
        "#### Sensibilidade em Sistemas de Controle\n",
        "\n",
        "- A sensibilidade de um sistema de controle mede como a variação nos parâmetros afeta a função de transferência.\n",
        "- A função de transferência é definida como:\n",
        "\n",
        "$$ T(s) = \\frac{Y(s)}{R(s)} $$\n",
        "\n",
        "- A sensibilidade é dada por:\n",
        "\n",
        "$$ S = \\frac{\\Delta T(s) / T(s)}{\\Delta G(s) / G(s)} $$\n",
        "\n",
        "- Para pequenas variações:\n",
        "\n",
        "$$ S = \\frac{dT / T}{dG / G} = \\frac{d \\ln T}{d \\ln G} $$\n",
        "\n",
        "#### Malha Aberta vs. Malha Fechada\n",
        "\n",
        "- **Sensibilidade em malha aberta**: $S = 1$.\n",
        "- **Sensibilidade em malha fechada**:\n",
        "\n",
        "$$ T(s) = \\frac{G_c(s) G(s)}{1 + G_c(s) G(s)} $$\n",
        "\n",
        "- A sensibilidade é reduzida pela razão:\n",
        "\n",
        "$$ S = \\frac{1}{1 + G_c(s) G(s)} $$\n",
        "\n",
        "- Aumentar o ganho de malha ($L(s) = G_c(s) G(s)$) reduz a sensibilidade.\n",
        "\n",
        "#### Sensibilidade a Parâmetros Internos\n",
        "\n",
        "- Muitas vezes, buscamos a sensibilidade $S_T^a$, onde $a$ é um parâmetro da função de transferência $G(s)$:\n",
        "\n",
        "$$ S_T^a = S_T^G S_G^a $$\n",
        "\n",
        "- Se $T(s, a)$ for uma fração da forma:\n",
        "\n",
        "$$ T(s, a) = \\frac{N(s, a)}{D(s, a)} $$\n",
        "\n",
        "- A sensibilidade a $a$ é:\n",
        "\n",
        "$$ S_T^a = \\frac{d \\ln T}{d \\ln a} = \\left( \\frac{d \\ln N}{d \\ln a} \\right)_{a=a_0} - \\left( \\frac{d \\ln D}{d \\ln a} \\right)_{a=a_0} $$\n",
        "\n",
        "#### Exemplo: Amplificador com Feedback\n",
        "\n",
        "- **Sem feedback**:\n",
        "\n",
        "$$ T(s) = -K_a $$\n",
        "\n",
        "- Sensibilidade ao ganho do amplificador:\n",
        "\n",
        "$$ S_T^{K_a} = 1 $$\n",
        "\n",
        "- **Com feedback** (onde $b = \\frac{R_2}{R_1}$):\n",
        "\n",
        "$$ T(s) = \\frac{-K_a}{1 + K_a b} $$\n",
        "\n",
        "- A sensibilidade ao ganho do amplificador agora é:\n",
        "\n",
        "$$ S_T^{K_a} = \\frac{1}{1 + K_a b} $$\n",
        "\n",
        "- Exemplo numérico: se $K_a = 10^4$ e $b = 0.1$:\n",
        "\n",
        "$$ S_T^{K_a} \\approx \\frac{1}{1000} $$\n",
        "\n",
        "- Ou seja, a sensibilidade é reduzida em mil vezes.\n",
        "\n",
        "#### Portanto\n",
        "\n",
        "- A adição de feedback é crucial para reduzir a sensibilidade a variações de parâmetros.\n",
        "- Sistemas em malha fechada permitem maior tolerância a imprecisões nos componentes comparados a sistemas em malha aberta.\n",
        "- A sensibilidade será explorada mais a fundo em capítulos seguintes.\n"
      ],
      "metadata": {
        "id": "xdQOfkRHREYH"
      }
    },
    {
      "cell_type": "markdown",
      "source": [
        "### 4.4 Sinais de Perturbação em um Sistema de Controle em Malha Fechada"
      ],
      "metadata": {
        "id": "5km5kXrpUsSY"
      }
    },
    {
      "cell_type": "markdown",
      "source": [
        "Muitos sistemas de controle estão sujeitos a sinais de perturbação externos que causam uma saída imprecisa. Exemplos:\n",
        "\n",
        "- Amplificadores eletrônicos possuem ruído inerente gerado dentro dos circuitos integrados ou transistores.\n",
        "- Antenas de radar estão sujeitas a rajadas de vento.\n",
        "- Muitos sistemas geram sinais de distorção indesejados devido a elementos não lineares.\n",
        "\n",
        "Um efeito importante do feedback em um sistema de controle é a redução do impacto dos sinais de perturbação. Um **sinal de perturbação** é um sinal de entrada indesejado que afeta o sinal de saída. O benefício dos sistemas com feedback é que o efeito da distorção, do ruído e das perturbações indesejadas pode ser efetivamente reduzido.\n",
        "\n",
        "#### Rejeição de Perturbação\n",
        "\n",
        "Quando $R(s) = N(s) = 0$, a partir da Equação (4.4):\n",
        "\n",
        "$$\n",
        "E(s) = -S(s)G(s)T_d(s) = - \\frac{G(s)}{1 + L(s)} T_d(s).\n",
        "$$\n",
        "\n",
        "- Para um $G(s)$ fixo e um dado $T_d(s)$, à medida que o ganho de malha $L(s)$ aumenta, o efeito de $T_d(s)$ sobre o erro de rastreamento diminui.\n",
        "- A função de sensibilidade $S(s)$ é pequena quando o ganho de malha é grande.\n",
        "- Um grande ganho de malha leva a uma boa rejeição de perturbação.\n",
        "\n",
        "Para uma boa rejeição de perturbação:\n",
        "\n",
        "- Precisamos de um grande ganho de malha nas frequências associadas aos sinais de perturbação esperados.\n",
        "- Como os sinais de perturbação geralmente possuem **baixa frequência**, projetamos $G_c(s)$ para que $S(s)$ seja pequena em baixas frequências.\n",
        "\n",
        "#### Exemplo: Controle de Velocidade de um Laminador de Aço\n",
        "\n",
        "- Os rolos estão sujeitos a variações de carga.\n",
        "- Quando uma barra entra nos rolos, a carga aumenta instantaneamente — um **torque em degrau**.\n",
        "\n",
        "A função de transferência de um motor CC com controle de armadura e perturbação de torque:\n",
        "\n",
        "$$\n",
        "E(s) = -v(s) = \\frac{1}{Js + b + \\frac{K_m K_b}{R_a}} T_d(s). \\tag{4.26}\n",
        "$$\n",
        "\n",
        "Erro em regime permanente, pelo Teorema do Valor Final:\n",
        "\n",
        "$$\n",
        "\\lim_{t \\to \\infty} E(t) = \\lim_{s \\to 0} sE(s) = \\frac{D}{b + \\frac{K_m K_b}{R_a}}. \\tag{4.27}\n",
        "$$\n",
        "\n",
        "No sistema em malha fechada (Figura 4.9):\n",
        "\n",
        "$$\n",
        "E(s) = -v(s) = \\frac{G_2(s)}{1 + G_1(s)G_2(s)H(s)} T_d(s). \\tag{4.28}\n",
        "$$\n",
        "\n",
        "Se $G_1(s)G_2(s)H(s) \\gg 1$:\n",
        "\n",
        "$$\n",
        "E(s) \\approx \\frac{T_d(s)}{G_1(s)H(s)}. \\tag{4.29}\n",
        "$$\n",
        "\n",
        "Erro em regime permanente:\n",
        "\n",
        "$$\n",
        "v(\\infty) \\approx -\\frac{R_a}{K_a K_m K_t} D. \\tag{4.32}\n",
        "$$\n",
        "\n",
        "A razão entre os erros em malha fechada e aberta:\n",
        "\n",
        "$$\n",
        "\\frac{v_c(\\infty)}{v_0(\\infty)} = \\frac{R_a (b + K_m K_b)}{K_a K_m K_t}, \\tag{4.33}\n",
        "$$\n",
        "\n",
        "Esse valor geralmente é menor que 0,02.\n",
        "\n",
        "#### Atenuação de Ruído de Medição\n",
        "\n",
        "Quando $R(s) = T_d(s) = 0$:\n",
        "\n",
        "$$\n",
        "E(s) = C(s)N(s) = \\frac{L(s)}{1 + L(s)} N(s).\n",
        "$$\n",
        "\n",
        "- À medida que o ganho de malha $L(s)$ diminui, o efeito de $N(s)$ sobre o erro também diminui.\n",
        "- A função de sensibilidade complementar $C(s)$ é pequena quando $L(s)$ é pequeno.\n",
        "\n",
        "Se projetarmos $G_c(s)$ para que $L(s) \\ll 1$:\n",
        "\n",
        "$$\n",
        "C(s) \\approx L(s).\n",
        "$$\n",
        "\n",
        "- Um **pequeno ganho de malha** leva a uma **boa atenuação de ruído**.\n",
        "- Para atenuar o ruído de medição (normalmente em **altas frequências**), precisamos de um ganho de malha pequeno nessas frequências.\n",
        "\n",
        "#### Separação de Frequências\n",
        "\n",
        "- Perturbações: **baixas frequências** — ganho elevado.\n",
        "- Ruído de medição: **altas frequências** — ganho reduzido.\n",
        "\n",
        "Se as frequências não forem bem separadas, o projeto é mais complexo e pode exigir **filtros de entalhe** (*notch filters*).\n",
        "\n",
        "Por fim, a relação entre $S(s)$ e $C(s)$:\n",
        "\n",
        "$$\n",
        "S(s) + C(s) = 1.\n",
        "$$\n",
        "\n",
        "Isso evidencia o equilíbrio necessário: **aumentar o ganho de malha reduz as perturbações, mas pode amplificar o ruído**.\n"
      ],
      "metadata": {
        "id": "0S1PbyKXUwVk"
      }
    },
    {
      "cell_type": "markdown",
      "source": [
        "### 4.5 Controle da Resposta Transitória"
      ],
      "metadata": {
        "id": "wk15kWcNU59B"
      }
    },
    {
      "cell_type": "markdown",
      "source": [
        "A resposta transitória de um sistema de controle descreve o comportamento do sistema antes de atingir o estado estacionário. Se o sistema de controle em malha aberta não fornecer uma resposta satisfatória, a função de transferência do loop, $G_c(s) \\cdot G_1(s)$, deve ser ajustada.\n",
        "\n",
        "#### Exemplo: Sistema de Controle de Velocidade\n",
        "\n",
        "- **Função de Transferência em Malha Aberta**:\n",
        "  $$ \\frac{v_1(s)}{V_a(s)} = G_1(s) = \\frac{K_1}{t_1 s + 1}, \\tag{4.39} $$\n",
        "  Onde $K_1$ e $t_1$ dependem de parâmetros como $K_m$, $R_{ab}$, $J$ e $K_b$.\n",
        "\n",
        "#### Caso de uma Siderúrgica\n",
        "\n",
        "- Se a inércia dos rolos for grande, um motor de controle de armadura maior será necessário. Se for aplicada uma mudança de comando, a resposta de velocidade no sistema de malha aberta será:\n",
        "  $$ v_1(s) = K_a G_1(s) R_1(s), \\tag{4.41} $$\n",
        "  e a resposta transitória será dada por:\n",
        "  $$ v_1(t) = K_a K_1 \\left( 1 - e^{-\\frac{t}{t_1}} \\right). \\tag{4.42} $$\n",
        "\n",
        "- Se essa resposta for muito lenta, é necessário escolher um motor com uma constante de tempo $t_1$ diferente. Porém, a alteração da resposta pode ser limitada pela inércia da carga.\n",
        "\n",
        "#### Sistema de Controle de Velocidade em Malha Fechada\n",
        "\n",
        "- Usando um tacômetro para gerar uma tensão proporcional à velocidade, a função de transferência de malha fechada é:\n",
        "  $$ \\frac{v_1(s)}{R_1(s)} = \\frac{K_a G_1(s)}{1 + K_a K_t G_1(s)}, \\tag{4.43} $$\n",
        "  onde $K_a$ e $K_t$ podem ser ajustados para atender às especificações da resposta transitória.\n",
        "\n",
        "- A resposta transitória será:\n",
        "  $$ v_1(t) = K_a K_1 \\left( 1 - e^{-\\frac{t}{t_1}} \\right). \\tag{4.44} $$\n",
        "\n",
        "- A alteração da resposta pode ser feita aumentando $K_a$, o que melhora a velocidade de resposta.\n",
        "\n",
        "#### Comparação de Sistemas\n",
        "\n",
        "- O sistema de malha fechada pode melhorar a resposta em um fator de cem em relação ao sistema de malha aberta. Para atingir isso, o ganho do amplificador $K_a$ e o sinal de voltagem do motor precisam ser maiores.\n",
        "\n",
        "#### Sensibilidade dos Sistemas\n",
        "\n",
        "- A sensibilidade do sistema de malha aberta a variações no parâmetro do motor é unitária. No sistema de malha fechada, a sensibilidade pode ser expressa por:\n",
        "  $$ \\frac{S_{K_m}}{T} = \\frac{S_G}{T_{S_{K_m}}} = \\frac{G}{(s + \\frac{1}{t_1}) (s + \\frac{K_a K_t}{K_1} + \\frac{1}{t_1})}. $$\n",
        "\n",
        "- Para um valor típico, a sensibilidade é uma função da frequência, podendo ser analisada para diferentes valores de frequência.\n"
      ],
      "metadata": {
        "id": "8jRCNaRDW8EF"
      }
    },
    {
      "cell_type": "markdown",
      "source": [
        "### 4.6 Erro em Regime Estacionário\n"
      ],
      "metadata": {
        "id": "QruxL9SqaSvb"
      }
    },
    {
      "cell_type": "markdown",
      "source": [
        "- Em um **sistema de controle com feedback**, o engenheiro pode ajustar a resposta transitória e reduzir a sensibilidade a distúrbios.\n",
        "- O erro em regime estacionário é a diferença entre a entrada e a saída após o sistema atingir o estado de equilíbrio.\n",
        "\n",
        "#### **Erro em Sistema de Malha Aberta:**\n",
        "   - Para um sistema de malha aberta, o erro é dado por:\n",
        "     $$\n",
        "     E_o(s) = R_o(s) - Y_o(s) = 1 - G_c(s)G_1(s)R_o(s)\n",
        "     $$\n",
        "     Onde $R_o(s)$ é a entrada e $Y_o(s)$ é a saída.\n",
        "   - Usando o **teorema do valor final**, o erro em regime estacionário é:\n",
        "     $$\n",
        "     e_o(\\infty) = 1 - G_c(0)G_1(0)\n",
        "     $$\n",
        "\n",
        "#### **Erro em Sistema de Malha Fechada:**\n",
        "   - Para um sistema de malha fechada, o erro é dado por:\n",
        "     $$\n",
        "     E_c(s) = \\frac{1}{1 + G_c(s)G_1(s)}R_o(s)\n",
        "     $$\n",
        "   - O erro em regime estacionário é:\n",
        "     $$\n",
        "     e_c(\\infty) = \\frac{1}{1 + G_c(0)G_1(0)}\n",
        "     $$\n",
        "\n",
        "#### **Análise Comparativa:**\n",
        "   - O sistema de **malha aberta** pode ter um erro estacionário grande, mas é possível ajustar o ganho $G_c(0)G_1(0)$ para reduzir o erro para zero.\n",
        "   - No entanto, em um **sistema de malha aberta**, a variação dos parâmetros (por exemplo, devido a mudanças ambientais) pode causar aumento no erro estacionário.\n",
        "   - Já um **sistema de malha fechada** monitora o erro e ajusta a resposta continuamente, reduzindo o impacto de mudanças nos parâmetros do sistema, como **erros de calibração** e **desvios ambientais**.\n",
        "\n",
        "#### **Exemplo de Controle com Feedback:**\n",
        "   - Para um **sistema de controle com feedback unitário**, com:\n",
        "     $$\n",
        "     G_1(s) = \\frac{K}{ts + 1} \\quad \\text{e} \\quad G_c(s) = \\frac{K_a}{t_1s + 1}\n",
        "     $$\n",
        "     O erro estacionário de malha aberta é dado por:\n",
        "     $$\n",
        "     e_o(\\infty) = 1 - K K_a\n",
        "     $$\n",
        "   - No sistema de malha fechada, o erro estacionário é dado por:\n",
        "     $$\n",
        "     e_c(\\infty) = \\frac{1}{1 + K K_a}\n",
        "     $$\n",
        "     O que pode ser reduzido para valores muito pequenos com um ganho alto ($K K_a = 100$).\n",
        "   - A diferença de erro entre os sistemas de malha aberta e fechada é significativa quando há variação no ganho do processo. Se o ganho mudar em $∆K/K = 0.1$, a mudança no erro para o sistema de malha aberta pode ser de 10%, enquanto para o sistema de malha fechada a mudança é apenas 0.11%, proporcionando uma melhoria significativa.\n",
        "\n",
        "#### Portanto\n",
        "   - O **sistema de malha fechada** tem a vantagem de reduzir significativamente o erro estacionário, especialmente em situações onde há variação de parâmetros e erros de calibração. Ele oferece um controle mais robusto, mantendo o erro pequeno mesmo com mudanças no sistema.\n"
      ],
      "metadata": {
        "id": "_ocF2nPta09D"
      }
    },
    {
      "cell_type": "markdown",
      "source": [
        "### 4.7 Custo do Feedback"
      ],
      "metadata": {
        "id": "weLH02ZDbDOY"
      }
    },
    {
      "cell_type": "markdown",
      "source": [
        "#### **Vantagens e Custos do Feedback:**\n",
        "   - O **feedback** oferece vantagens como o aumento do controle sobre a resposta do sistema, mas também apresenta custos associados.\n",
        "\n",
        "#### **Custo 1: Componentes e Complexidade:**\n",
        "   - A introdução do feedback aumenta o número de componentes no sistema, especialmente o **sensor**, que frequentemente é o componente mais caro.\n",
        "   - O sensor também pode adicionar **ruído** ao sistema, o que pode afetar a precisão da medição.\n",
        "\n",
        "#### **Custo 2: Perda de Ganho:**\n",
        "   - Em um sistema de **malha aberta**, o ganho é dado por $G_c(s)G_1(s)$. No entanto, em um sistema com **feedback negativo unitário**, o ganho de malha fechada é reduzido para:\n",
        "     $$\n",
        "     \\frac{G_c(s)G_1(s)}{1 + G_c(s)G_1(s)}\n",
        "     $$\n",
        "     Esse ganho fechado é menor por um fator de $1/(1 + G_c(s)G_1(s))$, o que reduz a sensibilidade do sistema a variações de parâmetros e distúrbios.\n",
        "   - Mesmo com a redução do ganho, o controle adicional no sistema justifica essa perda, pois melhora a resposta do sistema.\n",
        "\n",
        "#### **Custo 3: Possibilidade de Instabilidade:**\n",
        "   - A adição de **feedback** pode introduzir a possibilidade de **instabilidade** no sistema. Mesmo que o sistema de malha aberta seja estável, o sistema com feedback pode não ser estável.\n",
        "\n",
        "#### **Desafios para o Projetista:**\n",
        "   - A implementação de feedback em sistemas dinâmicos cria desafios adicionais para o projetista, especialmente em termos de **estabilidade** e **complexidade**.\n",
        "   - Contudo, para a maioria dos casos, as vantagens do feedback superam seus custos, tornando-o um sistema de controle desejável.\n",
        "\n",
        "#### **Por que não definir Gc(s)G1(s) = 1?**\n",
        "   - Embora possa parecer vantajoso configurar $G_c(s)G_1(s) = 1$, a dinâmica do **processo real** representado por $G_1(s)$ pode não ser totalmente descrita pelo modelo da função de transferência.\n",
        "   - Além disso, o parâmetro de $G_1(s)$ pode ser **incerto** ou variar com o tempo, tornando impossível definir perfeitamente $G_c(s)G_1(s) = 1$ na prática.\n",
        "   - Portanto, não é aconselhável projetar o sistema de controle de malha aberta dessa maneira.\n"
      ],
      "metadata": {
        "id": "zqKW_6-LbfQi"
      }
    },
    {
      "cell_type": "markdown",
      "source": [
        "### 4.8 *Exemplos*"
      ],
      "metadata": {
        "id": "2GjnvNW2bu8T"
      }
    },
    {
      "cell_type": "markdown",
      "source": [
        "1. **Máquina de Perfuração do Canal da Mancha:**\n",
        "   - Foca na **resposta do sistema em malha fechada** a **distúrbios**.\n",
        "\n",
        "2. **Controle da Pressão Arterial Durante Anestesia:**\n",
        "   - Explora o **projeto de controle** em profundidade.\n",
        "   - Como os modelos de pacientes (funções de transferência) são difíceis de obter a partir de princípios biológicos e físicos, é adotada uma abordagem baseada em **dados medidos**.\n",
        "   \n",
        "3. **Impacto Positivo do Feedback:**\n",
        "   - Destaca como o **controle em malha fechada** influencia positivamente o **projeto de sistemas de controle**."
      ],
      "metadata": {
        "id": "FjRyCUxL29wl"
      }
    },
    {
      "cell_type": "markdown",
      "source": [
        "#### Controle da Máquina de Perfuração do Canal da Mancha"
      ],
      "metadata": {
        "id": "sohmYSQ-4RjC"
      }
    },
    {
      "cell_type": "markdown",
      "source": [
        "- O **túnel sob o Canal da Mancha** conecta a França ao Reino Unido, com 23,5 milhas de extensão e 250 pés abaixo do nível do mar, permitindo viagens entre Londres e Paris em 2h15min.\n",
        "- Máquinas de perfuração usaram um **sistema de laser** para manter o alinhamento preciso ao escavar dos dois lados até se encontrarem no meio.\n",
        "\n",
        "#### **Modelo de Controle:**\n",
        "- Ângulo real da máquina: $Y(s)$\n",
        "- Ângulo desejado: $R(s)$\n",
        "- Distúrbios: $T_d(s)$\n",
        "- **Objetivo:** Ajustar o ganho $K$ para minimizar o erro causado pelos distúrbios enquanto mantém uma boa resposta ao ângulo desejado.\n",
        "\n",
        "#### **Equações:**\n",
        "\n",
        "1. **Saída em função dos dois inputs:**\n",
        "$$\n",
        "Y(s) = \\frac{K + 11s}{s^2 + 12s + K} R(s) + \\frac{1}{s^2 + 12s + K} T_d(s)\n",
        "$$\n",
        "\n",
        "2. **Erro em regime permanente para entrada degrau unitário:**\n",
        "$$\n",
        "\\lim_{t \\to \\infty} e(t) = \\lim_{s \\to 0} \\frac{s}{1 + \\frac{K + 11s}{s(s + 12)}} \\cdot \\frac{1}{s} = 0\n",
        "$$\n",
        "\n",
        "3. **Valor em regime permanente devido a distúrbio degrau unitário ($R(s) = 0$):**\n",
        "$$\n",
        "\\lim_{t \\to \\infty} y(t) = \\lim_{s \\to 0} \\frac{1}{s(s + 12) + K} = \\frac{1}{K}\n",
        "$$\n",
        "- Para $K = 100$: **0,01**  \n",
        "- Para $K = 20$: **0,05**\n",
        "\n",
        "4. **Sensibilidade à variação no processo $G(s)$:**\n",
        "$$\n",
        "S_T/G = \\frac{s(s + 12)}{s(s + 12) + K}\n",
        "$$\n",
        "- Para **baixas frequências** ($|s| < 12$):  \n",
        "$$\n",
        "S_T/G \\approx \\frac{s}{K}\n",
        "$$\n",
        "\n",
        "#### **Análise dos Resultados:**\n",
        "\n",
        "- **$K = 100$:**\n",
        "  - Sobressinal: **22%**\n",
        "  - Tempo de assentamento: **0,7 s**\n",
        "  - Erro devido a distúrbio: **0,01**\n",
        "- **$K = 20$:**\n",
        "  - Sobressinal: **3,9%**\n",
        "  - Tempo de assentamento: **0,9 s**\n",
        "  - Erro devido a distúrbio: **0,05**\n",
        "\n",
        "#### Portanto\n",
        "- Aumentar $K$ reduz a sensibilidade do sistema, mas um valor **$K = 20$** é considerado um compromisso razoável entre resposta ao degrau e supressão de distúrbios.\n"
      ],
      "metadata": {
        "id": "JQ0NXfb43FFt"
      }
    },
    {
      "cell_type": "markdown",
      "source": [
        "#### Controle da Pressão Arterial Durante Anestesia"
      ],
      "metadata": {
        "id": "EfZPQUriCf14"
      }
    },
    {
      "cell_type": "markdown",
      "source": [
        "#### Objetivos da Anestesia\n",
        "- Eliminar dor, consciência e reflexos naturais para permitir a realização segura de cirurgias.\n",
        "- Métodos antigos (álcool, ópio, cannabis) eram inadequados — pouca analgesia ou risco de coma/morte.\n",
        "- Nos anos 1850, éter, clorofórmio e óxido nitroso começaram a ser usados para induzir a inconsciência de forma mais segura.\n",
        "\n",
        "#### Controle Moderno\n",
        "- O anestesista monitora parâmetros vitais:  \n",
        "  - Pressão arterial  \n",
        "  - Frequência cardíaca  \n",
        "  - Temperatura  \n",
        "  - Oxigenação sanguínea  \n",
        "  - Dióxido de carbono expirado  \n",
        "- Um sistema automatizado pode ajudar, liberando o anestesista para outras tarefas.  \n",
        "\n",
        "#### Objetivo do Controle\n",
        "- **Regulagem da pressão arterial média (MAP)** para um valor de referência, mesmo na presença de distúrbios.  \n",
        "\n",
        "#### Variável Controlada\n",
        "- **Pressão arterial média (MAP)**.  \n",
        "\n",
        "#### Especificações de Projeto do Controle\n",
        "- **DS1**: Tempo de acomodação $< 20$ min para uma variação de 10% no set-point da MAP.  \n",
        "- **DS2**: Sobressinal $< 15\\%$ para uma variação de 10% no set-point da MAP.  \n",
        "- **DS3**: Erro de regime permanente zero para uma variação em degrau no set-point da MAP:  \n",
        "$$\\lim_{t \\to \\infty} e(t) = 0$$  \n",
        "- **DS4**: Erro de regime permanente zero para uma entrada de distúrbio cirúrgico em degrau, com resposta máxima $< 5\\%$ do set-point da MAP:  \n",
        "$$\\lim_{t \\to \\infty} y(t) = 0$$  \n",
        "- **DS5**: Sensibilidade mínima a mudanças nos parâmetros do processo.  \n",
        "\n",
        "#### Configuração do Sistema\n",
        "- **Elementos principais**:  \n",
        "  - **Controlador**  \n",
        "  - **Bomba/Vaporizador de anestesia**  \n",
        "  - **Sensor**  \n",
        "  - **Paciente**  \n",
        "- **Entrada**: $R(s)$ — mudança desejada na MAP.  \n",
        "- **Saída**: $Y(s)$ — mudança real na MAP.  \n",
        "- O controlador usa a diferença entre a pressão arterial desejada e a medida para ajustar a bomba/vaporizador.  \n",
        "\n",
        "#### Modelos\n",
        "- **Bomba/Vaporizador**:  \n",
        "$$ G_p(s) = \\frac{U(s)}{V(s)} = \\frac{1}{s} $$  \n",
        "- **Resposta ao impulso**:  \n",
        "$$ h(t) = 1, \\quad t \\geq 0 $$  \n",
        "- **Paciente (modelo linear simplificado)**:  \n",
        "$$ y(t) = t e^{-pt}, \\quad t \\geq 0, \\quad p = 2 $$  \n",
        "- **Função de transferência do paciente**:  \n",
        "$$ G(s) = \\frac{1}{s + p} $$  \n",
        "- **Sensor**:  \n",
        "$$ H(s) = 1 $$  \n",
        "\n",
        "#### Controlador PID\n",
        "- Função de transferência:  \n",
        "$$ G_c(s) = K_P + sK_D + \\frac{K_I}{s} = \\frac{K_D s^2 + K_P s + K_I}{s} $$  \n",
        "- **Parâmetros ajustáveis**:  \n",
        "  - $K_P$: ganho proporcional  \n",
        "  - $K_D$: ganho derivativo  \n",
        "  - $K_I$: ganho integral  \n",
        "\n",
        "#### Erro em Regime Permanente\n",
        "- **Erro de rastreamento**:  \n",
        "$$ E(s) = \\frac{s^4 + 2ps^3 + p^2 s^2}{s^4 + 2ps^3 + (p^2 + K_D)s^2 + K_P s + K_I} R(s) $$  \n",
        "- **Erro em degrau**:  \n",
        "$$ \\lim_{t \\to \\infty} e(t) = \\lim_{s \\to 0} sE(s) = 0 $$  \n",
        "\n",
        "#### Rejeição de Distúrbios\n",
        "- Transferência do distúrbio para a saída:  \n",
        "$$ Y(s) = \\frac{-s^2}{s^4 + 2ps^3 + (p^2 + K_D)s^2 + K_P s + K_I} T_d(s) $$  \n",
        "- Com uma entrada em degrau:  \n",
        "$$ T_d(s) = \\frac{D_0}{s} $$  \n",
        "- Erro em regime permanente:  \n",
        "$$ \\lim_{s \\to 0} sY(s) = 0 $$  \n"
      ],
      "metadata": {
        "id": "-swQIEHHClhD"
      }
    },
    {
      "cell_type": "markdown",
      "source": [
        "### 4.9 Características de Sistemas de Controle Usando Software de Projeto de Controle\n"
      ],
      "metadata": {
        "id": "HqseikHxNErW"
      }
    },
    {
      "cell_type": "markdown",
      "source": [
        "#### Sistema de Controle de Velocidade\n",
        "\n",
        "O diagrama de blocos em malha aberta de um motor CC controlado por armadura, com uma perturbação de torque de carga $T_d(s)$, é apresentado na Figura 4.8. As variáveis estão definidas na Tabela 4.2. O sistema possui duas entradas: $V_a(s)$ e $T_d(s)$. Usando o princípio da superposição, cada entrada é analisada separadamente:\n",
        "\n",
        "- Para estudar o efeito das perturbações, definimos $V_a(s) = 0$ e analisamos apenas $T_d(s)$.\n",
        "- Para examinar a resposta ao sinal de referência, usamos $T_d(s) = 0$ e consideramos apenas $V_a(s)$.\n",
        "\n",
        "O diagrama de blocos do sistema de controle de velocidade com tacômetro em malha fechada é mostrado na Figura 4.9, com os valores de $K_a$ e $K_t$ fornecidos na Tabela 4.2.\n",
        "\n",
        "**Análise em malha aberta:**\n",
        "\n",
        "A função de transferência em malha aberta, da perturbação $T_d(s)$ à saída $v(s)$, é:\n",
        "\n",
        "$$ \\frac{v(s)}{T_d(s)} = \\frac{-1}{2s + 1.5} = sys\\_o $$\n",
        "\n",
        "O erro em regime permanente, $v_o(\\infty)$, é aproximadamente:\n",
        "\n",
        "$$ v_o(\\infty) \\approx v_o(7) = -0.66 \\ \\text{rad/s} $$\n",
        "\n",
        "**Análise em malha fechada:**\n",
        "\n",
        "A função de transferência em malha fechada, da perturbação $T_d(s)$ à saída $v(s)$, é:\n",
        "\n",
        "$$ \\frac{v(s)}{T_d(s)} = \\frac{-1}{2s + 541.5} = sys\\_c $$\n",
        "\n",
        "O erro em regime permanente, $v_c(\\infty)$, é aproximadamente:\n",
        "\n",
        "$$ v_c(\\infty) \\approx v_c(0.02) = -0.002 \\ \\text{rad/s} $$\n",
        "\n",
        "Comparando os erros de regime permanente em malha aberta e fechada:\n",
        "\n",
        "$$ \\frac{v_c(\\infty)}{v_o(\\infty)} = 0.003 $$\n",
        "\n",
        "\n",
        "A adição do loop de feedback negativo reduziu significativamente o efeito da perturbação sobre a saída. Isso evidencia a propriedade de rejeição de distúrbios dos sistemas de controle em malha fechada.\n",
        "\n",
        "#### Máquinas de perfuração do Canal da Mancha\n",
        "\n",
        "As máquinas de perfuração do Canal da Mancha possuem um diagrama de blocos descrito na Figura 4.14. A função de transferência da saída devido aos dois inputs é dada por (Equação (4.57)):\n",
        "\n",
        "$$\n",
        "Y_1(s) = \\frac{K + 11s}{s^2 + 12s + K} \\cdot R_1(s) + \\frac{1}{s^2 + 12s + K} \\cdot T_d1(s)\n",
        "$$\n",
        "\n",
        "O efeito do ganho de controle, $K$, na resposta transitória é mostrado na Figura 4.25, juntamente com o script utilizado para gerar os gráficos. Comparando os dois gráficos nas partes (a) e (b), é evidente que diminuir $K$ reduz o overshoot. Embora não seja tão óbvio a partir dos gráficos da Figura 4.25, também é verdade que diminuir $K$ aumenta o tempo de estabilização. Isso pode ser verificado ao olhar mais de perto os dados usados para gerar os gráficos. Este exemplo demonstra como a resposta transitória pode ser alterada pelo ganho de controle $K$. Com base na nossa análise até agora, preferiríamos usar $K = 20$. Outras considerações devem ser levadas em conta antes de estabelecer o design final.\n",
        "\n",
        "Antes de fazer a escolha final de $K$, é importante considerar a resposta do sistema a uma perturbação de degrau unitário, como mostrado na Figura 4.26. Observamos que aumentar $K$ reduz a resposta em regime permanente de $y_1(t)$ à perturbação de degrau. O valor em regime permanente de $y_1(t)$ é 0.05 para $K = 20$ e 0.01 para $K = 100$. Os erros em regime permanente, percentagem de overshoot e tempos de estabilização (critério de 2%) estão resumidos na Tabela 4.3. Os valores em regime permanente são previstos pelo teorema do valor final para uma entrada de perturbação unitária, como segue:\n",
        "\n",
        "$$\n",
        "\\lim_{t \\to \\infty} y_1(t) = \\lim_{s \\to 0} \\frac{s b}{s^2 + 12s + K} \\cdot R_1(s) = \\frac{1}{K}\n",
        "$$\n",
        "\n",
        "Se nossa única consideração de design for a rejeição de distúrbios, preferiríamos usar $K = 100$.\n",
        "\n",
        "Acabamos de vivenciar uma situação comum de trade-off no design de sistemas de controle. Neste exemplo particular, aumentar $K$ leva a uma melhor rejeição de distúrbios, enquanto diminuir $K$ resulta em melhor desempenho (ou seja, menos overshoot). A decisão final sobre como escolher $K$ depende do projetista. Embora o software de design de controle possa certamente auxiliar no projeto do sistema de controle, ele não pode substituir a capacidade de decisão e a intuição do engenheiro.\n",
        "\n",
        "A etapa final na análise é observar a sensibilidade do sistema a mudanças no processo. A sensibilidade do sistema é dada por (Equação 4.60):\n",
        "\n",
        "$$\n",
        "S_G \\cdot T = \\frac{s^2 + 12}{s^2 + 12s + K}\n",
        "$$\n",
        "\n",
        "Podemos calcular os valores de $S_G \\cdot T(s)$ para diferentes valores de $s$ e gerar um gráfico da sensibilidade do sistema. Para baixas frequências, podemos aproximar a sensibilidade do sistema por:\n",
        "\n",
        "$$\n",
        "S_G \\cdot T \\approx \\frac{s}{K}\n",
        "$$\n",
        "\n",
        "Aumentar o ganho $K$ reduz a sensibilidade do sistema. Os gráficos de sensibilidade do sistema quando $s = j\\omega$ são mostrados na Figura 4.27 para $K = 20$.\n",
        "\n"
      ],
      "metadata": {
        "id": "V2ynGn_TNIxX"
      }
    },
    {
      "cell_type": "markdown",
      "source": [
        "### 4.10 Exemplo de Projeto Sequencial: Sistema de Leitura de Disco"
      ],
      "metadata": {
        "id": "LJNccdcLYvyy"
      }
    },
    {
      "cell_type": "markdown",
      "source": [
        "O projeto de um sistema de disco rígido envolve compromisso e otimização. O sistema deve posicionar a cabeça de leitura de maneira precisa, ao mesmo tempo em que reduz os efeitos de mudanças nos parâmetros e choques externos. O braço mecânico e a flexura podem ressoar em frequências causadas por excitações, como um choque em um notebook. Distúrbios no sistema incluem choques físicos, desgaste ou oscilação nos rolamentos do eixo, e mudanças nos parâmetros devido a componentes.\n",
        "\n",
        "Consideramos o sistema mostrado na Figura 4.28, que utiliza um amplificador com ganho variável como controlador. As funções de transferência são mostradas na Figura 4.29. Primeiro, determinamos os estados permanentes para uma entrada de degrau unitário $R_1(s) = \\frac{1}{s}$, quando $T_d(s) = 0$. Quando $H_1(s) = 1$, obtemos a equação do erro de regime permanente:\n",
        "\n",
        "$$\n",
        "E_1(s) = R_1(s) - Y_1(s) = \\frac{1}{1 + K_a G_1(s) G_2(s)} R_1(s)\n",
        "$$\n",
        "\n",
        "Logo, o erro de regime permanente é:\n",
        "\n",
        "$$\n",
        "\\lim_{t \\to \\infty} e_1(t) = \\lim_{s \\to 0} \\frac{s}{1 + K_a G_1(s) G_2(s)} = 0\n",
        "$$\n",
        "\n",
        "Agora, determinamos o desempenho transitório do sistema conforme o ganho $K_a$ é ajustado. A função de transferência do sistema em malha fechada (com $T_d(s) = 0$) é dada por:\n",
        "\n",
        "$$\n",
        "T_1(s) = \\frac{Y_1(s)}{R_1(s)} = \\frac{K_a G_1(s) G_2(s)}{1 + K_a G_1(s) G_2(s)} = \\frac{5000 K_a}{s^3 + 1020s^2 + 20000s + 5000K_a}\n",
        "$$\n",
        "\n",
        "O comportamento do sistema para $K_a = 10$ e $K_a = 80$ é mostrado na Figura 4.30(b). A resposta do sistema para $K_a = 80$ é mais rápida, mas apresenta oscilações inaceitáveis.\n",
        "\n",
        "Determinamos o efeito do distúrbio $T_d(s) = \\frac{1}{s}$ quando $R_1(s) = 0$. O objetivo é reduzir o efeito do distúrbio a um nível insignificante. A resposta do sistema para o distúrbio $T_d(s)$ com $K_a = 80$ é dada por:\n",
        "\n",
        "$$\n",
        "Y_1(s) = \\frac{G_2(s)}{1 + K_a G_1(s) G_2(s)} T_d(s)\n",
        "$$\n",
        "\n",
        "Ao aumentar $K_a$ além de 80, o efeito do distúrbio pode ser reduzido ainda mais, mas a resposta ao comando de degrau se torna inaceitavelmente oscilante.\n"
      ],
      "metadata": {
        "id": "00kibl92YxkE"
      }
    },
    {
      "cell_type": "markdown",
      "source": [
        "### 4.11 Sumario"
      ],
      "metadata": {
        "id": "z6fOnwphUZFV"
      }
    },
    {
      "cell_type": "markdown",
      "source": [
        "#### Razões fundamentais para o uso de realimentação em sistemas de controle:\n",
        "\n",
        "- Diminui a sensibilidade a variações nos parâmetros do processo.\n",
        "- Melhora a rejeição de distúrbios.\n",
        "- Atenua o ruído de medição.\n",
        "- Reduz o erro em regime permanente.\n",
        "- Facilita o controle e ajuste da resposta transitória.\n",
        "\n",
        "#### Funções importantes:\n",
        "\n",
        "- **Ganho de malha:** $L(s) = G_c(s)G(s)$\n",
        "- **Função de sensibilidade:** $S(s) = \\frac{1}{1 + L(s)}$\n",
        "- **Função de sensibilidade complementar:** $C(s) = \\frac{L(s)}{1 + L(s)}$\n",
        "\n",
        "#### Erro de rastreamento:\n",
        "\n",
        "$$\n",
        "E(s) = S(s)R(s) - S(s)G(s)T_d(s) + C(s)N(s)\n",
        "$$\n",
        "\n",
        "#### Compromisso fundamental:\n",
        "\n",
        "Como $S(s) + C(s) = 1$, há um equilíbrio entre:\n",
        "\n",
        "- Rejeitar distúrbios e reduzir a sensibilidade a mudanças na planta.\n",
        "- Atenuar o ruído de medição.\n",
        "\n",
        "Sistemas de controle por realimentação são amplamente usados na indústria, governo e natureza devido às suas vantagens.\n"
      ],
      "metadata": {
        "id": "VYMT4PvYUdZw"
      }
    }
  ]
}