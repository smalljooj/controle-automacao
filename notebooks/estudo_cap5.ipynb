{
  "cells": [
    {
      "cell_type": "markdown",
      "metadata": {
        "id": "5oSOypFYM61e"
      },
      "source": [
        "# Estudo Dirigido: Controle e Automação\n",
        "\n",
        "#### - Ismael Marinho Rocha\n"
      ]
    },
    {
      "cell_type": "markdown",
      "metadata": {
        "id": "pueo0LQRVDh1"
      },
      "source": [
        "## 5. Performance dos Sistemas de controle com Realimentação (FeedBack)"
      ]
    },
    {
      "cell_type": "markdown",
      "metadata": {
        "id": "mjKq-a4FVmRt"
      },
      "source": [
        "### 5.1 Introdução"
      ]
    },
    {
      "cell_type": "markdown",
      "metadata": {
        "id": "G29_Xk1IVw51"
      },
      "source": [
        "\n",
        "\n",
        "Os sistemas de controle por realimentação oferecem a vantagem de ajustar o desempenho transitório e em regime permanente.\n",
        "\n",
        "#### Desempenho dos sistemas de controle:\n",
        "- **Resposta transitória:** Desaparece com o tempo.\n",
        "- **Resposta em regime permanente:** Persiste após o tempo suficiente desde a entrada.\n",
        "\n",
        "#### Especificações de projeto:\n",
        "- Incluem índices de resposta ao tempo e precisão em regime permanente.\n",
        "- São frequentemente revisadas para permitir compromissos entre diferentes objetivos de desempenho.\n",
        "\n",
        "#### Compromisso no projeto:\n",
        "- **M1:** Uma métrica que pode aumentar ao minimizar **M2**.\n",
        "- **pmin:** O ponto de cruzamento que fornece o melhor equilíbrio entre **M1** e **M2**.\n",
        "- As especificações raramente são rígidas, adaptando-se conforme necessário para alcançar um equilíbrio eficaz.\n",
        "\n",
        "#### Medidas de desempenho:\n",
        "As medidas de desempenho indicam ao projetista quão bem o sistema cumpre sua função, respondendo à pergunta:\n",
        "\n",
        "**Quão bem o sistema executa a tarefa para a qual foi projetado?**\n"
      ]
    },
    {
      "cell_type": "markdown",
      "metadata": {
        "id": "jP2dTr_rV1W3"
      },
      "source": [
        "### 5.2 Sinais de Entrada de Teste"
      ]
    },
    {
      "cell_type": "markdown",
      "metadata": {
        "id": "mf6k9TmSV20F"
      },
      "source": [
        "As especificações de desempenho no domínio do tempo são essenciais, pois os sistemas de controle operam intrinsecamente nesse domínio. A resposta transitória é de grande interesse para projetistas, e a estabilidade do sistema é verificada inicialmente. Se o sistema for estável, a resposta a um sinal de entrada específico fornecerá métricas de desempenho.\n",
        "\n",
        "#### Sinais de teste padrão:\n",
        "- **Degrau**: $r(t) = 1$\n",
        "- **Rampa**: $r(t) = t$\n",
        "- **Parábola**: $r(t) = t^2$\n",
        "- **Impulso unitário**: Derivado da função retangular $f_P(t)$ que se aproxima da função impulso $\\delta(t)$ à medida que $P \\rightarrow 0$.\n",
        "\n",
        "Esses sinais são usados porque correlacionam bem com entradas reais e permitem a comparação de diferentes projetos.\n",
        "\n",
        "#### Resposta ao impulso:\n",
        "A resposta ao impulso é útil para expressar a saída $y(t)$ em termos da convolução com a entrada $r(t)$:\n",
        "\n",
        "$$\n",
        "y(t) = \\int_{-\\infty}^{t} g(t - \\tau)r(\\tau) d\\tau\n",
        "$$\n",
        "\n",
        "Se a entrada for um impulso unitário, a saída é simplesmente a resposta ao impulso:\n",
        "\n",
        "$$\n",
        "y(t) = g(t)\n",
        "$$\n",
        "\n",
        "#### Transformada de Laplace:\n",
        "Sinais de teste seguem a forma geral:\n",
        "\n",
        "$$\n",
        "r(t) = t^n\n",
        "$$\n",
        "\n",
        "Com transformada de Laplace:\n",
        "\n",
        "$$\n",
        "R(s) = \\frac{n!}{s^{n+1}}\n",
        "$$\n",
        "\n",
        "#### Exemplo prático:\n",
        "Considere um sistema $G(s) = \\frac{9}{s + 10}$ com entrada degrau unitário $R(s) = \\frac{1}{s}$:\n",
        "\n",
        "$$\n",
        "Y(s) = \\frac{9}{s(s + 10)}\n",
        "$$\n",
        "\n",
        "- **Resposta transitória**:\n",
        "\n",
        "$$\n",
        "y(t) = 0.9(1 - e^{-10t})\n",
        "$$\n",
        "\n",
        "- **Resposta em regime permanente**:\n",
        "\n",
        "$$\n",
        "y(\\infty) = 0.9\n",
        "$$\n",
        "\n",
        "- **Erro em regime permanente**:\n",
        "\n",
        "$$\n",
        "e_{ss} = \\lim_{s \\rightarrow 0} sE(s) = \\lim_{s \\rightarrow 0} \\frac{s + 1}{s + 10} = 0.1\n",
        "$$\n",
        "\n",
        "A entrada degrau é a mais simples de gerar e avaliar, sendo normalmente escolhida para testes de desempenho.\n"
      ]
    },
    {
      "cell_type": "markdown",
      "metadata": {
        "id": "iV7sUc53WXj2"
      },
      "source": [
        "### 5.3 Performance de sistemas de segunda ordem"
      ]
    },
    {
      "cell_type": "markdown",
      "metadata": {
        "id": "OBu4c-bSXSrl"
      },
      "source": [
        "#### Resposta ao Degrau Unitário\n",
        "\n",
        "- O sistema de controle em malha fechada possui a seguinte função de transferência:\n",
        "\n",
        "$$\n",
        "Y(s) = \\frac{\\omega_n^2}{s^2 + 2\\zeta\\omega_n s + \\omega_n^2} R(s)\n",
        "$$\n",
        "\n",
        "- Para uma entrada degrau unitário:\n",
        "\n",
        "$$\n",
        "Y(s) = \\frac{\\omega_n^2}{s(s^2 + 2\\zeta\\omega_n s + \\omega_n^2)}\n",
        "$$\n",
        "\n",
        "- A resposta no domínio do tempo é:\n",
        "\n",
        "$$\n",
        "y(t) = 1 - \\frac{1}{\\beta} e^{-\\zeta \\omega_n t} \\sin(\\omega_n \\beta t + \\phi)\n",
        "$$\n",
        "\n",
        "onde:\n",
        "\n",
        "$$\n",
        "\\beta = \\sqrt{1 - \\zeta^2}, \\quad \\phi = \\cos^{-1}(\\zeta), \\quad 0 \\leq \\zeta \\leq 1\n",
        "$$\n",
        "\n",
        "#### Resposta ao Impulso Unitário\n",
        "\n",
        "- Para uma entrada impulso unitário:\n",
        "\n",
        "$$\n",
        "Y(s) = \\frac{\\omega_n^2}{s^2 + 2\\zeta\\omega_n s + \\omega_n^2}\n",
        "$$\n",
        "\n",
        "- A resposta no tempo é a derivada da resposta ao degrau:\n",
        "\n",
        "$$\n",
        "y(t) = \\frac{\\omega_n}{\\beta} e^{-\\zeta \\omega_n t} \\sin(\\omega_n \\beta t)\n",
        "$$\n",
        "\n",
        "#### Medidas de Desempenho\n",
        "\n",
        "- **Tempo de subida ($T_r$):** tempo para a resposta variar de 10% a 90% do valor final.\n",
        "- **Tempo de pico ($T_p$):** tempo até a primeira máxima sobressinal.\n",
        "- **Sobressinal percentual (P.O.):**\n",
        "\n",
        "$$\n",
        "P.O. = 100 e^{-\\frac{\\zeta \\pi}{\\sqrt{1-\\zeta^2}}}\n",
        "$$\n",
        "\n",
        "- **Tempo de acomodação ($T_s$):** tempo necessário para a resposta permanecer dentro de 2% do valor final:\n",
        "\n",
        "$$\n",
        "\\zeta \\omega_n T_s \\approx 4\n",
        "$$\n",
        "\n",
        "#### Relações Importantes\n",
        "\n",
        "- **Tempo de pico:**\n",
        "\n",
        "$$\n",
        "T_p = \\frac{\\pi}{\\omega_n \\sqrt{1 - \\zeta^2}}\n",
        "$$\n",
        "\n",
        "- **Sobressinal máximo:**\n",
        "\n",
        "$$\n",
        "M_{pt} = 1 + e^{-\\frac{\\zeta \\pi}{\\sqrt{1-\\zeta^2}}}\n",
        "$$\n",
        "\n",
        "- **Tempo de subida aproximado (para $0.3 \\leq \\zeta \\leq 0.8$):**\n",
        "\n",
        "$$\n",
        "T_{r1} = \\frac{2.16\\zeta + 0.60}{\\omega_n}\n",
        "$$\n",
        "\n",
        "#### Compromisso entre rapidez e precisão\n",
        "\n",
        "- **Rapidez da resposta**: aumenta com valores maiores de $\\omega_n$ para um dado $\\zeta$.\n",
        "- **Precisão**: valores menores de $\\zeta$ resultam em respostas mais rápidas, porém com maior sobressinal.\n",
        "\n",
        "Há sempre um equilíbrio entre rapidez (tempo de subida e tempo de pico) e precisão (sobressinal e tempo de acomodação), exigindo um compromisso no projeto do sistema.\n",
        "\n"
      ]
    },
    {
      "cell_type": "markdown",
      "metadata": {
        "id": "14rxnHAdXcOn"
      },
      "source": [
        "### 5.4 Efeitos de um Terceiro Polo e um Zero na Resposta de Sistemas de Segunda Ordem"
      ]
    },
    {
      "cell_type": "markdown",
      "metadata": {
        "id": "vDGAC0s9ezil"
      },
      "source": [
        "#### Aproximação de sistemas de terceira ordem por sistemas de segunda ordem\n",
        "- A resposta ao degrau de um sistema de terceira ordem pode ser aproximada pela resposta de um sistema de segunda ordem quando:\n",
        "\n",
        "$$\n",
        "\\frac{1}{g} \\geq 10 \\zeta \\omega_n\n",
        "$$\n",
        "\n",
        "- Considerando o sistema de terceira ordem:\n",
        "\n",
        "$$\n",
        "T(s) = \\frac{1}{s^2 + 2\\zeta\\omega_n s + \\frac{\\omega_n^2}{g} s + \\omega_n^2}\n",
        "$$\n",
        "\n",
        "- Com $\\omega_n = 1.0$, $\\zeta = 0.45$ e $g = 1.0$:\n",
        "  - Polos: $s_{1,2} = -0.45 \\pm 0.89i$, $s_3 = -1.0$\n",
        "  - $P.O. = 10.9\\%$, $T_s = 8.84$ s, $T_r = 2.16$ s\n",
        "\n",
        "- Para $g = 0.22$:\n",
        "  - Polos: $s_{1,2} = -0.45 \\pm 0.89i$, $s_3 = -4.5$\n",
        "  - $P.O. = 20.0\\%$, $T_s = 8.56$ s, $T_r = 1.6$ s\n",
        "\n",
        "- A aproximação de segunda ordem para o sistema com polos dominantes é dada por:\n",
        "\n",
        "$$\n",
        "T_n(s) = \\frac{1}{s^2 + 0.9s + 1}\n",
        "$$\n",
        "\n",
        "- Valores esperados:\n",
        "  - $P.O. = 20.5\\%$\n",
        "  - $T_s = \\frac{4}{\\zeta \\omega_n} = 8.89$ s\n",
        "  - $T_r = \\frac{2.16\\zeta + 0.6}{\\omega_n} = 1.57$ s\n",
        "\n",
        "#### Efeito de um zero finito\n",
        "- A presença de um zero finito próximo aos polos complexos dominantes afeta significativamente a resposta transitória.\n",
        "- Considerando a função de transferência:\n",
        "\n",
        "$$\n",
        "T(s) = \\frac{\\omega_n^2 / a (s + a)}{s^2 + 2\\zeta\\omega_n s + \\omega_n^2}\n",
        "$$\n",
        "\n",
        "- Com $\\zeta = 0.45$ e razões $a / \\zeta \\omega_n = 0.5, 1, 2, 10.0$:\n",
        "  - À medida que $a / \\zeta \\omega_n$ aumenta, o zero se afasta dos polos e a resposta ao degrau se aproxima da resposta do sistema de segunda ordem.\n",
        "\n",
        "#### Portanto\n",
        "- A resposta ao degrau de sistemas de terceira ordem pode ser aproximada por sistemas de segunda ordem quando os polos complexos dominam.\n",
        "- Zeros finitos próximos aos polos influenciam fortemente a resposta transitória.\n",
        "- A correlação entre a resposta no tempo e a localização dos polos no plano $s$ é essencial para entender o desempenho de sistemas em malha fechada.\n"
      ]
    },
    {
      "cell_type": "markdown",
      "metadata": {
        "id": "vPyzYzUXe6dQ"
      },
      "source": [
        "#### Seleção de Parâmetros\n",
        "\n",
        "Selecionar os parâmetros $K$ e $p$ para que o sistema em malha fechada atenda às especificações:\n",
        "- $P.O. \\leq 5\\%$\n",
        "- $T_s \\leq 4$ s\n",
        "\n",
        "##### Cálculo dos parâmetros\n",
        "- De $P.O. \\leq 5\\%$: $ \\zeta \\geq 0.69$\n",
        "- De $T_s \\leq 4$ s: $ \\zeta \\omega_n \\geq 1$\n",
        "\n",
        "##### Escolhas\n",
        "- $\\zeta = 0.707$ $(P.O. = 4.3\\%)$\n",
        "- $\\zeta \\omega_n = 1$ $(T_s = 4$ s$)$\n",
        "- Polos em malha fechada: $s = -1 \\pm j1$\n",
        "- $\\omega_n = \\frac{1}{\\zeta} = \\sqrt{2}$\n",
        "\n",
        "##### Função de transferência em malha fechada\n",
        "$$\n",
        "T(s) = \\frac{K}{s^2 + ps + K} = \\frac{\\omega_n^2}{s^2 + 2\\zeta\\omega_n s + \\omega_n^2}\n",
        "$$\n",
        "\n",
        "##### Resultado\n",
        "- $K = \\omega_n^2 = 2$\n",
        "- $p = 2\\zeta\\omega_n = 2$\n",
        "\n",
        "Como o sistema resultante é de segunda ordem, as especificações de tempo são precisamente atendidas.\n"
      ]
    },
    {
      "cell_type": "markdown",
      "metadata": {
        "id": "PvHLzbUyfdma"
      },
      "source": [
        "#### Análise de um Sistema de Terceira Ordem\n",
        "\n",
        "##### Função de transferência em malha fechada\n",
        "$$\n",
        "T(s) = \\frac{\\omega_n^2 (s + a)}{s^2 + 2\\zeta\\omega_n s + \\omega_n^2 (1 + \\tau s)}\n",
        "$$\n",
        "\n",
        "- O polo real e o zero podem afetar a resposta transitória.\n",
        "- Se $a \\gg \\zeta\\omega_n$ e $\\tau \\ll \\frac{1}{\\zeta\\omega_n}$, seus efeitos são mínimos.\n",
        "\n",
        "##### Exemplo\n",
        "Dada a função:\n",
        "$$\n",
        "T(s) = \\frac{1.6(s + 2.5)}{s^2 + 6s + 25(0.16s + 1)}\n",
        "$$\n",
        "\n",
        "- $ \\zeta\\omega_n = 3$\n",
        "- $ \\tau = 0.16$\n",
        "- $ a = 2.5$\n",
        "\n",
        "##### Aproximação de segunda ordem\n",
        "Negligenciando o polo e o zero adicionais:\n",
        "$$\n",
        "T(s) \\approx \\frac{25}{s^2 + 6s + 25}\n",
        "$$\n",
        "\n",
        "- $ \\zeta = 0.6$\n",
        "- $ \\omega_n = 5$\n",
        "\n",
        "##### Resposta transitória\n",
        "- $ T_s = \\frac{4}{\\zeta\\omega_n} = 1.33$ s\n",
        "- $ P.O. = 100e^{-\\frac{\\pi\\zeta}{\\sqrt{1-\\zeta^2}}} = 9.5\\%$\n",
        "\n",
        "##### Resposta real (terceira ordem)\n",
        "- $ T_s = 1.6$ s\n",
        "- $ P.O. = 38\\%$\n",
        "\n",
        "##### Conclusão\n",
        "A aproximação de segunda ordem subestima os efeitos do polo e zero adicionais, sendo necessário considerar o sistema completo. O fator chave para o desempenho é a razão de amortecimento $\\zeta$, influenciando $T_s$, $P.O.$ e outras métricas.\n",
        "\n",
        "##### Estimativa de $\\zeta$\n",
        "- A frequência amortecida: $ \\omega = \\omega_n \\sqrt{1-\\zeta^2}$\n",
        "- O tempo de decaimento exponencial: $ \\tau = \\frac{1}{\\zeta\\omega_n}$\n",
        "- O número de ciclos visíveis até o tempo de acomodação:\n",
        "$$\n",
        "\\text{ciclos visíveis} \\approx \\frac{4\\sqrt{1-\\zeta^2}}{2\\pi\\zeta}\n",
        "$$\n"
      ]
    },
    {
      "cell_type": "markdown",
      "metadata": {
        "id": "-m5qLkwZgCeg"
      },
      "source": [
        "### 5.5 Localização dos Polos no Plano-s e Resposta Transitória"
      ]
    },
    {
      "cell_type": "markdown",
      "metadata": {
        "id": "q3yr2Ch2gqkk"
      },
      "source": [
        "#### Função de Transferência em Malha Fechada\n",
        "A função de transferência de um sistema de controle com feedback negativo unitário é dada por:\n",
        "$$\n",
        "T(s) = \\frac{Y(s)}{R(s)} = \\frac{P_i(s) \\Delta_i(s)}{\\Delta(s)}\n",
        "$$\n",
        "onde a equação característica do sistema é $\\Delta(s) = 0$. Para um sistema de controle com feedback negativo unitário, a equação característica se simplifica para $1 + G_c(s)G(s) = 0$.\n",
        "\n",
        "#### Resposta Transitória\n",
        "A resposta transitória de um sistema com ganho DC = 1 e entrada de degrau unitário pode ser expressa como uma expansão em frações parciais:\n",
        "$$\n",
        "Y(s) = \\frac{1}{s} + \\sum_{i=1}^{M} \\frac{A_i}{s + s_i} + \\sum_{k=1}^{N} \\frac{B_k}{s + C_k} \\frac{1}{s^2 + 2a_k s + a_k^2 + v_k^2}\n",
        "$$\n",
        "onde os polos podem ser reais ou complexos conjugados. A inversão da transformada resulta em uma resposta transitória composta por termos exponenciais e senoidais amortecidos:\n",
        "$$\n",
        "y(t) = 1 + \\sum_{i=1}^{M} A_i e^{-s_i t} + \\sum_{k=1}^{N} D_k e^{-a_k t} \\sin(v_k t + u_k)\n",
        "$$\n",
        "onde $D_k$ depende de $B_k, C_k, a_k, v_k$.\n",
        "\n",
        "#### Estabilidade e Desempenho\n",
        "Para que a resposta seja estável, a parte real dos polos deve estar no lado esquerdo do plano-s. A localização dos polos e zeros determina a resposta de passo e impulso, com os polos afetando os modos de resposta e os zeros controlando a contribuição relativa de cada modo.\n",
        "\n",
        "#### Considerações do Designer de Controle\n",
        "- A localização dos polos e zeros afeta diretamente a resposta do sistema.\n",
        "- Mover um zero perto de um polo pode reduzir sua contribuição para a resposta.\n",
        "- O designer de controle deve compreender como essas modificações influenciam a resposta do sistema.\n"
      ]
    },
    {
      "cell_type": "markdown",
      "metadata": {
        "id": "F03uvHI6hB2v"
      },
      "source": [
        "### 5.6 Erro de estado estacionário de sistemas de controle de feedback\n"
      ]
    },
    {
      "cell_type": "markdown",
      "metadata": {
        "id": "96xlDEYIiJw-"
      },
      "source": [
        "A principal razão para usar feedback, apesar do custo e complexidade adicionais, é a redução do erro em regime estacionário de um sistema. O erro em regime estacionário de um sistema com malha fechada estável é geralmente várias ordens de magnitude menor do que o erro de um sistema com malha aberta.\n",
        "\n",
        "Considerando um sistema de feedback negativo unitário, em ausência de distúrbios externos e ruído de medição, o erro de rastreamento é dado por:\n",
        "\n",
        "$$\n",
        "E(s) = \\frac{1}{1 + G_c(s)G(s) R(s)}\n",
        "$$\n",
        "\n",
        "Usando o Teorema do Valor Final, o erro em regime estacionário é:\n",
        "\n",
        "$$\n",
        "\\lim_{t \\to \\infty} e(t) = e_{ss} = \\lim_{s \\to 0} s \\cdot \\frac{1}{1 + G_c(s)G(s) R(s)}\n",
        "$$\n",
        "\n",
        "#### Erro em Regime Estacionário para Entrada de Passo\n",
        "\n",
        "Para uma entrada de passo de magnitude \\(A\\), o erro em regime estacionário é:\n",
        "\n",
        "$$\n",
        "e_{ss} = \\lim_{s \\to 0} \\frac{s \\cdot A}{1 + G_c(s) G(s)} = \\frac{A}{1 + \\lim_{s \\to 0} G_c(s) G(s)}\n",
        "$$\n",
        "\n",
        "A função de transferência do laço é:\n",
        "\n",
        "$$\n",
        "G_c(s) G(s) = K_q \\prod_{i=1}^{M} \\left( s + z_i \\right) \\prod_{k=1}^{Q} \\left( s + p_k \\right)\n",
        "$$\n",
        "\n",
        "O número de integrações \\(N\\) (indicado pelo número de tipo do sistema) determina o erro em regime estacionário. Para um sistema de tipo zero, \\(N = 0\\), o erro é:\n",
        "\n",
        "$$\n",
        "e_{ss} = \\frac{A}{1 + K_p}\n",
        "$$\n",
        "\n",
        "onde \\(K_p = \\lim_{s \\to 0} G_c(s) G(s)\\) é a constante de erro de posição.\n",
        "\n",
        "#### Erro para Entrada de Ramp\n",
        "\n",
        "Para uma entrada de rampa com uma inclinação \\(A\\), o erro em regime estacionário é:\n",
        "\n",
        "$$\n",
        "e_{ss} = \\lim_{s \\to 0} \\frac{A}{s + s \\cdot G_c(s) G(s)} = \\frac{A}{K_v}\n",
        "$$\n",
        "\n",
        "onde \\(K_v\\) é a constante de erro de velocidade, dada por:\n",
        "\n",
        "$$\n",
        "K_v = \\lim_{s \\to 0} s \\cdot G_c(s) G(s)\n",
        "$$\n",
        "\n",
        "#### Erro para Entrada de Aceleração\n",
        "\n",
        "Para uma entrada de aceleração \\(A t^2 / 2\\), o erro em regime estacionário é:\n",
        "\n",
        "$$\n",
        "e_{ss} = \\lim_{s \\to 0} \\frac{A}{s^2 \\cdot G_c(s) G(s)} = \\frac{A}{K_a}\n",
        "$$\n",
        "\n",
        "onde \\(K_a\\) é a constante de erro de aceleração, dada por:\n",
        "\n",
        "$$\n",
        "K_a = \\lim_{s \\to 0} s^2 \\cdot G_c(s) G(s)\n",
        "$$\n",
        "\n",
        "#### Constantes de Erro para Sistemas de Feedback Não Unitários\n",
        "\n",
        "Em sistemas com feedback não unitário, o cálculo do erro em regime estacionário é mais simples se o diagrama de blocos for rearranjado para um sistema equivalente de feedback unitário.\n",
        "\n",
        "O erro para uma entrada de passo é:\n",
        "\n",
        "$$\n",
        "e_{ss} = \\lim_{s \\to 0} \\frac{s E(s)}{1 + G_c(s) G(s) H(s)}\n",
        "$$\n",
        "\n",
        "Para um sistema não unitário com o ganho \\(K_1\\), a constante de erro de posição é dada por:\n",
        "\n",
        "$$\n",
        "K_p = \\lim_{s \\to 0} G_c(s) G(s)\n",
        "$$\n",
        "\n",
        "\n"
      ]
    },
    {
      "cell_type": "markdown",
      "metadata": {
        "id": "OC-EdbbYiWfn"
      },
      "source": [
        "##### Exemplo 5.3 - Controle de Direção de Robô Móvel\n",
        "\n",
        "O controle de direção de um robô móvel pode ser descrito como um sistema com controlador de tipo 1, com \\(K_2 = 0\\) e \\(G_c(s) = K_1\\), sendo o erro estacionário dado por:\n",
        "\n",
        "$$\n",
        "e_{ss} = \\frac{A}{1 + K_p}\n",
        "$$\n",
        "\n",
        "### Exemplo 5.5 - Sistema de Controle de Feedback Não Unitário\n",
        "\n",
        "Para um sistema com feedback não unitário, o erro em regime estacionário para uma entrada de passo é dado por:\n",
        "\n",
        "$$\n",
        "e_{ss} = 1 - T_1(s)\n",
        "$$\n",
        "\n",
        "Onde \\(T_1(s)\\) é a função de transferência do sistema.\n",
        "\n",
        "Para um valor de \\(K = 4\\), o erro estacionário é zero.\n",
        "\n",
        "---\n",
        "\n",
        "O design de sistemas de controle leva em conta essas constantes de erro para minimizar o erro em regime estacionário enquanto mantém uma resposta transitória aceitável.\n"
      ]
    },
    {
      "cell_type": "markdown",
      "metadata": {
        "id": "aA7H-6oxiX4I"
      },
      "source": [
        "### 5.7 Índices de Desempenho"
      ]
    },
    {
      "cell_type": "markdown",
      "metadata": {
        "id": "YQVBHohtjNyM"
      },
      "source": [
        "A teoria moderna de controle assume que é possível especificar quantitativamente o desempenho desejado de um sistema. Assim, um índice de desempenho pode ser calculado ou medido e usado para avaliar o desempenho do sistema. Esses índices são valiosos no projeto e operação de sistemas de controle.\n",
        "\n",
        "Um sistema é considerado ótimo quando seus parâmetros são ajustados para que o índice atinja um extremo, geralmente um valor mínimo. Para ser útil, o índice de desempenho deve ser um número sempre positivo ou zero. O melhor sistema é aquele que minimiza esse índice.\n",
        "\n",
        "#### Índices de Desempenho Comuns\n",
        "\n",
        "1. **ISE (Integral do Quadrado do Erro)**:  \n",
        "   $$ ISE = \\int_0^T e^2(t) \\, dt $$\n",
        "\n",
        "2. **IAE (Integral do Erro Absoluto)**:  \n",
        "   $$ IAE = \\int_0^T |e(t)| \\, dt $$\n",
        "\n",
        "3. **ITAE (Integral do Erro Absoluto Ponderado pelo Tempo)**:  \n",
        "   $$ ITAE = \\int_0^T t |e(t)| \\, dt $$\n",
        "\n",
        "4. **ITSE (Integral do Erro Quadrado Ponderado pelo Tempo)**:  \n",
        "   $$ ITSE = \\int_0^T t e^2(t) \\, dt $$\n",
        "\n",
        "O **ITAE** é capaz de reduzir a contribuição de grandes erros iniciais, além de enfatizar os erros que ocorrem mais tarde na resposta. Esse índice oferece a melhor seletividade entre os índices de desempenho, sendo o valor mínimo facilmente discernível à medida que os parâmetros do sistema são ajustados.\n",
        "\n",
        "#### Forma Geral do Índice de Desempenho\n",
        "\n",
        "O índice de desempenho pode ser expresso de forma geral como:\n",
        "\n",
        "$$ I = \\int_0^T f(e(t), r(t), y(t), t) \\, dt $$\n",
        "\n",
        "onde \\( f \\) é uma função do erro, entrada, saída e tempo.\n",
        "\n",
        "#### Exemplo 5.6 - Sistema de Controle de Telescópio Espacial\n",
        "\n",
        "Considerando um sistema de controle de apontamento de telescópio espacial, o objetivo é minimizar o efeito de um distúrbio \\( Td_1(s) \\). A função de transferência fechada do distúrbio para a saída é dada por:\n",
        "\n",
        "$$ \\frac{Y(s)}{T_d(s)} = \\frac{s + K_1K_3}{s^2 + K_1K_3 s + K_1K_2K_p} $$\n",
        "\n",
        "O objetivo é minimizar o valor de \\( y(t) \\), com um distúrbio de passo unitário. O valor mínimo do **ISE** pode ser calculado analiticamente.\n",
        "\n",
        "A solução é obtida ao diferenciar o índice \\( I \\) em relação a \\( K_3 \\) e resolvê-lo para \\( K_3 \\):\n",
        "\n",
        "$$ \\frac{dI}{dK_3} = -K_3 - 2 + 0.1 = 0 $$\n",
        "\n",
        "O valor ótimo de \\( K_3 \\) é \\( K_3 = 3.2 \\), com uma razão de amortecimento \\( \\zeta = 0.50 \\).\n",
        "\n",
        "#### Portanto\n",
        "\n",
        "A seleção de um índice de desempenho adequado depende dos objetivos do sistema de controle. Um sistema é ótimo quando o índice de desempenho selecionado é minimizado. Porém, o valor ótimo dos parâmetros depende diretamente da definição de \"ótimo\", ou seja, do índice de desempenho escolhido.\n"
      ]
    },
    {
      "cell_type": "markdown",
      "metadata": {
        "id": "Pvk-SMv6jVQg"
      },
      "source": [
        "### 5.8 Simplificação de Sistemas Lineares"
      ]
    },
    {
      "cell_type": "markdown",
      "metadata": {
        "id": "AuPjSDnuo1jv"
      },
      "source": [
        "Ao estudar sistemas complexos com funções de transferência de alta ordem, é muito útil reduzi-los para modelos de ordem inferior. Vários métodos estão disponíveis para reduzir a ordem de uma função de transferência. Uma abordagem relativamente simples para remover um pólo insignificante de uma função de transferência é observar um pólo com uma parte real negativa muito mais negativa que os outros pólos. Assim, espera-se que esse pólo afete de maneira insignificante a resposta transitória.\n",
        "\n",
        "Por exemplo, considere a função de transferência:\n",
        "$$\n",
        "G_1(s) = \\frac{K}{s^3 + 22s^2 + 30s}\n",
        "$$\n",
        "O pólo em $s = -30$ pode ser negligenciado, resultando no sistema simplificado:\n",
        "$$\n",
        "G_1(s) = \\frac{K}{s^2 + 22s}\n",
        "$$\n",
        "No entanto, para uma melhor aproximação do sistema, outro método tenta igualar a resposta em frequência da função de transferência de ordem reduzida à resposta em frequência da função original.\n",
        "\n",
        "#### Aproximação Geral de Função de Transferência\n",
        "\n",
        "Para um sistema de alta ordem com função de transferência:\n",
        "$$\n",
        "G_H(s) = \\frac{K}{a_m s^m + a_{m-1} s^{m-1} + \\cdots + a_1 s + 1}\n",
        "$$\n",
        "A função de transferência aproximada de ordem inferior é dada por:\n",
        "$$\n",
        "G_L(s) = \\frac{K}{c_p s^p + \\cdots + c_1 s + 1}\n",
        "$$\n",
        "O objetivo é escolher os coeficientes $c_i$ de modo que a resposta em frequência de $G_L(s)$ se aproxime da resposta em frequência de $G_H(s)$. Os coeficientes são determinados através de manipulação algébrica e resolução de equações que minimizam a diferença entre as respostas de frequência dos sistemas.\n",
        "\n",
        "#### Exemplo: Modelo Simplificado\n",
        "\n",
        "Considere um sistema de terceira ordem:\n",
        "$$\n",
        "G_H(s) = \\frac{6}{s^3 + 6s^2 + 11s + 6}\n",
        "$$\n",
        "Aproximamos este sistema com um modelo de segunda ordem:\n",
        "$$\n",
        "G_L(s) = \\frac{1}{1 + d_1 s + d_2 s^2}\n",
        "$$\n",
        "Comparando as respostas em frequência, podemos encontrar os valores de $d_1$ e $d_2$ que minimizam o erro entre os sistemas original e aproximado. O resultado é o seguinte modelo de segunda ordem:\n",
        "$$\n",
        "G_L(s) = \\frac{1}{1 + 1.615s + 0.624s^2}\n",
        "$$\n",
        "\n",
        "#### Retenção de Pólos Dominantes\n",
        "\n",
        "Às vezes, é desejável reter os pólos dominantes do sistema original no modelo de ordem inferior. Isso pode ser feito especificando os pólos dominantes no denominador da função de transferência aproximada e permitindo que o numerador de $G_L(s)$ seja sujeito à aproximação.\n",
        "\n",
        "#### Aproximação de Routh\n",
        "\n",
        "Outro método de redução de ordem é a **aproximação de Routh**, baseada na ideia de truncar a tabela de Routh-Hurwitz usada para determinar a estabilidade. Os aproximantes de Routh podem ser calculados usando um algoritmo recursivo finito para determinar a estabilidade do sistema.\n"
      ]
    },
    {
      "cell_type": "markdown",
      "metadata": {
        "id": "8mPjSyuRpQ2H"
      },
      "source": [
        "### 5.9 Exemplos de Design"
      ]
    },
    {
      "cell_type": "markdown",
      "metadata": {
        "id": "ZFwOKwKTqEMt"
      },
      "source": [
        "#### Controle do Telescópio Espacial Hubble\n",
        "\n",
        "O telescópio espacial Hubble é um dos instrumentos científicos mais complexos e caros já construídos. Seu sistema de apontamento pode centralizar o telescópio em uma moeda a 400 milhas de distância. O objetivo do design é escolher os ganhos $K_1$ e $K$ para que:\n",
        "\n",
        "- O overshoot percentual de uma resposta a um degrau seja menor que 10%.\n",
        "- O erro em regime estacionário para um comando ramp seja minimizado.\n",
        "- O efeito de uma perturbação por degrau seja reduzido.\n",
        "\n",
        "A equação de erro de rastreamento é dada por:\n",
        "$$\n",
        "E(s) = \\frac{1}{1 + L(s)} R(s) - \\frac{G(s)}{1 + L(s)} T_d(s)\n",
        "$$\n",
        "A seleção de $K$ e $K_1$ visa garantir que o sistema tenha um overshoot de até 10%. Para isso, $z$ é ajustado para 0.6, o que resulta em um overshoot de 9.5%. O erro em regime estacionário para uma entrada ramp é dado por:\n",
        "$$\n",
        "e_{ss} = \\frac{B}{8.33}\n",
        "$$\n",
        "Com $K = 100$, os resultados foram satisfatórios, com um erro em regime estacionário de $0.12B$.\n",
        "\n",
        "#### Controle de Atitude de um Avião\n",
        "\n",
        "O controle automático de voo tem sido usado desde os primeiros aviões, como o Wright Flyer I, e continua sendo uma parte essencial do design de aeronaves. O controle do movimento de rotação (rolagem) de um avião é um exemplo típico. Para o controle de atitude, o objetivo é regular o ângulo de banco da aeronave para manter a orientação estável, mesmo com perturbações externas.\n",
        "\n",
        "A dinâmica lateral do avião é modelada por uma função de transferência que descreve a relação entre a deflexão do aileron e o ângulo de banco da aeronave:\n",
        "$$\n",
        "\\frac{f(s)}{da(s)} = \\frac{k_1 s - c_0}{s^2 + b_1 s + b_0}\n",
        "$$\n",
        "O movimento lateral da aeronave envolve três modos principais: rotação holandesa, espiral e subsistência de rolo. A partir disso, o design de controle é baseado na escolha de um sistema de controle com especificações como um overshoot de 20% para um degrau unitário e um tempo de resposta rápido.\n",
        "\n",
        "O modelo simplificado da aeronave, considerando voo estável e nível de asas, é utilizado para derivar a função de transferência necessária para o design do controlador. A equação transferida simplificada permite o controle da rotação do avião para atingir a estabilidade desejada.\n"
      ]
    },
    {
      "cell_type": "markdown",
      "metadata": {
        "id": "jNrnZKcIqKWR"
      },
      "source": [
        "### 5.10  Desempenho de Sistema Usando Software de Design de Controle"
      ]
    },
    {
      "cell_type": "markdown",
      "metadata": {
        "id": "dUem6Ors02GW"
      },
      "source": [
        "Nesta seção, investigamos as especificações de desempenho no domínio do tempo, que são geralmente dadas em termos da resposta transitória a um sinal de entrada específico e os erros de rastreamento em regime permanente resultantes. A discussão também aborda a simplificação de sistemas lineares, com foco na função impulso e na função **Isim**, que são usadas para simular sistemas lineares.\n",
        "\n",
        "#### Especificações no Domínio do Tempo\n",
        "\n",
        "As especificações de desempenho no domínio do tempo geralmente se referem à resposta transitória de um sistema a um sinal de entrada. Como os sinais de entrada reais são desconhecidos, é comum usar um sinal de teste padrão. Considerando um sistema de segunda ordem, a saída do sistema fechado é dada por:\n",
        "\n",
        "$$\n",
        "Y_1(s) = \\frac{v_n^2}{s^2 + 2zv_n s + v_n^2} R_1(s)\n",
        "$$\n",
        "\n",
        "Já discutimos o uso da função degrau para calcular a resposta ao degrau de um sistema. Agora, abordamos outro sinal de teste importante: o impulso. A resposta ao impulso é a derivada temporal da resposta ao degrau.\n",
        "\n",
        "#### Função Impulso e Simulação\n",
        "\n",
        "A resposta ao impulso pode ser calculada usando a função impulso mostrada na Figura 5.33. Com essa função, podemos gerar gráficos similares aos da Figura 5.4 e 5.5, dependendo da configuração do sistema. A resposta de um sistema de segunda ordem para uma entrada de impulso é exibida na Figura 5.35.\n",
        "\n",
        "#### Função **Isim**\n",
        "\n",
        "Em muitos casos, pode ser necessário simular a resposta do sistema a um sinal de entrada arbitrário, mas conhecido. Nesses casos, utilizamos a função **Isim** (mostrada na Figura 5.36) para obter a resposta do sistema a um sinal específico, proporcionando flexibilidade para análises mais complexas.\n"
      ]
    },
    {
      "cell_type": "markdown",
      "metadata": {
        "id": "0htPbNJK07C8"
      },
      "source": [
        "#### Controle de Direção de Robô Móvel\n",
        "\n",
        "O diagrama de blocos para um sistema de controle de direção de robô móvel é mostrado na Figura 5.18. Supondo que a função de transferência do controlador de direção seja:\n",
        "\n",
        "$$\n",
        "G_c(s) = K_1 + \\frac{K_2}{s}\n",
        "$$\n",
        "\n",
        "Quando a entrada é uma rampa, o erro em regime permanente é dado por:\n",
        "\n",
        "$$\n",
        "e_{ss} = \\frac{A}{K_v}\n",
        "$$\n",
        "\n",
        "Onde:\n",
        "\n",
        "$$\n",
        "K_v = K_2 K\n",
        "$$\n",
        "\n",
        "O efeito da constante do controlador, \\(K_2\\), sobre o erro em regime permanente é evidente pela equação (5.83). Quanto maior for \\(K_2\\), menor será o erro em regime permanente.\n",
        "\n",
        "#### Simulação da Resposta do Sistema\n",
        "\n",
        "Podemos simular a resposta do sistema em malha fechada para uma entrada de rampa usando a função **Isim**. Os ganhos do controlador \\(K_1\\) e \\(K_2\\), bem como o ganho do sistema \\(K\\), podem ser representados simbolicamente no script para que diversos valores sejam selecionados e simulados. Os resultados são mostrados na Figura 5.37 para \\(K_1 = K = 1\\), \\(K_2 = 2\\), e \\(t = 1/10\\).\n",
        "\n",
        "#### Simplificação de Sistemas Lineares\n",
        "\n",
        "Pode ser possível desenvolver um modelo aproximado de ordem inferior que corresponda de perto à resposta entrada-saída de um modelo de ordem superior. Um procedimento para aproximar funções de transferência é dado na Seção 5.8. A simulação computacional pode ser utilizada para comparar o modelo aproximado com o modelo real, como ilustrado no exemplo a seguir.\n"
      ]
    },
    {
      "cell_type": "markdown",
      "metadata": {
        "id": "f95_MhoL1rvb"
      },
      "source": [
        "#### Modelo Simplificado\n",
        "\n",
        "Considere o sistema de terceira ordem:\n",
        "\n",
        "$$\n",
        "G_H(s) = \\frac{6}{s^3 + 6s^2 + 11s + 6}\n",
        "$$\n",
        "\n",
        "Uma aproximação de segunda ordem é:\n",
        "\n",
        "$$\n",
        "G_L(s) = \\frac{1.60}{s^2 + 2.590s + 1.60}\n",
        "$$"
      ]
    },
    {
      "cell_type": "markdown",
      "metadata": {
        "id": "oi5Ww-8x13LN"
      },
      "source": [
        "### 5.11 Exemplo de Design Sequencial - Sistema de Leitura de Disco"
      ]
    },
    {
      "cell_type": "markdown",
      "metadata": {
        "id": "N-VT1JU_4v5K"
      },
      "source": [
        "Neste exemplo, consideramos o processo de design de um sistema de leitura de disco. O objetivo é ajustar o ganho do amplificador $K_a$ para obter o melhor desempenho possível. As metas incluem:\n",
        "\n",
        "1. Obter a resposta mais rápida a uma entrada de degrau $r(t)$.\n",
        "2. Limitar o sobressalto percentual e a natureza oscilatória da resposta.\n",
        "3. Reduzir o efeito de uma perturbação na posição de saída da cabeça de leitura.\n",
        "\n",
        "As especificações são resumidas na Tabela 5.5.\n",
        "\n",
        "Considere o modelo de segunda ordem do motor e braço, que negligencia o efeito da indutância da bobina. O sistema fechado é dado por:\n",
        "\n",
        "$$\n",
        "Y(s) = \\frac{5K_a}{s^2 + 20s + 5K_a} R(s)\n",
        "$$\n",
        "\n",
        "Onde $v_n^2 = 5K_a$ e $2zv_n = 20$. A resposta do sistema é mostrada na Figura 5.40, e as medições de desempenho para valores selecionados de $K_a$ estão na Tabela 5.6.\n",
        "\n",
        "Ao aumentar $K_a$ para 60, o efeito de uma perturbação é reduzido em um fator de 2, como mostrado na Figura 5.41.\n",
        "\n",
        "Para atender aos objetivos do sistema, escolhemos $K_a = 40$ como o melhor compromisso. No entanto, esse compromisso não atende totalmente às especificações. No próximo capítulo, o processo de design será reconsiderado com uma nova configuração do sistema de controle.\n"
      ]
    },
    {
      "cell_type": "markdown",
      "metadata": {
        "id": "pU6tjkUR4z-z"
      },
      "source": [
        "### 5.12 Resumo do Capítulo\n",
        "\n"
      ]
    },
    {
      "cell_type": "markdown",
      "metadata": {
        "id": "eGCdfnKz5Dg9"
      },
      "source": [
        "Neste capítulo, consideramos a definição e medição do desempenho de um sistema de controle por realimentação. A discussão abordou o conceito de índice de desempenho e a utilidade de sinais de teste padrão. Em seguida, várias medições de desempenho para um sinal de teste padrão de entrada de degrau foram delineadas, como:\n",
        "\n",
        "- Sobressalto\n",
        "- Tempo de pico\n",
        "- Tempo de acomodação\n",
        "\n",
        "Foi observado que as especificações para a resposta desejada frequentemente são contraditórias, sendo proposta a ideia de um compromisso no design. A relação entre a localização da raiz no plano $s$ da função de transferência do sistema e a resposta do sistema foi discutida.\n",
        "\n",
        "Uma medida importante de desempenho do sistema é o erro em regime estacionário para sinais de entrada específicos. A relação entre o erro em regime estacionário de um sistema e seus parâmetros foi desenvolvida utilizando o teorema do valor final.\n",
        "\n",
        "Por fim, a utilidade de um índice de desempenho integral foi abordada, e vários exemplos de design que minimizaram o índice de desempenho de um sistema foram completados. Assim, o capítulo se concentrou na definição e utilidade das medições quantitativas de desempenho dos sistemas de controle por realimentação.\n"
      ]
    }
  ],
  "metadata": {
    "colab": {
      "collapsed_sections": [
        "xI_bj0xLRd3f",
        "7E9uBZQtNFo4",
        "TiLDmjJzRXPo",
        "oPz9UsF1Rzx_",
        "5km5kXrpUsSY",
        "wk15kWcNU59B",
        "QruxL9SqaSvb",
        "weLH02ZDbDOY",
        "sohmYSQ-4RjC"
      ],
      "provenance": []
    },
    "kernelspec": {
      "display_name": "Python 3",
      "name": "python3"
    },
    "language_info": {
      "name": "python"
    }
  },
  "nbformat": 4,
  "nbformat_minor": 0
}
